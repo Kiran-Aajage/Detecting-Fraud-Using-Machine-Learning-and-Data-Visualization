{
  "cells": [
    {
      "cell_type": "code",
      "execution_count": null,
      "id": "6a0e1baa",
      "metadata": {
        "execution": {
          "iopub.execute_input": "2021-10-17T13:57:58.609401Z",
          "iopub.status.busy": "2021-10-17T13:57:58.608471Z",
          "iopub.status.idle": "2021-10-17T13:57:59.639960Z",
          "shell.execute_reply": "2021-10-17T13:57:59.639397Z",
          "shell.execute_reply.started": "2021-10-17T13:35:41.537244Z"
        },
        "papermill": {
          "duration": 1.116973,
          "end_time": "2021-10-17T13:57:59.640155",
          "exception": false,
          "start_time": "2021-10-17T13:57:58.523182",
          "status": "completed"
        },
        "tags": [],
        "id": "6a0e1baa"
      },
      "outputs": [],
      "source": [
        "import numpy as np\n",
        "import pandas as pd\n",
        "import matplotlib.pyplot as plt\n",
        "%matplotlib inline\n",
        "import seaborn as sns\n",
        "sns.set_theme(style=\"darkgrid\")\n"
      ]
    },
    {
      "cell_type": "code",
      "execution_count": null,
      "id": "c7da68b7",
      "metadata": {
        "execution": {
          "iopub.execute_input": "2021-10-17T13:57:59.951631Z",
          "iopub.status.busy": "2021-10-17T13:57:59.950894Z",
          "iopub.status.idle": "2021-10-17T13:58:19.812240Z",
          "shell.execute_reply": "2021-10-17T13:58:19.811525Z",
          "shell.execute_reply.started": "2021-10-17T13:35:41.546855Z"
        },
        "papermill": {
          "duration": 19.943168,
          "end_time": "2021-10-17T13:58:19.812424",
          "exception": false,
          "start_time": "2021-10-17T13:57:59.869256",
          "status": "completed"
        },
        "tags": [],
        "id": "c7da68b7"
      },
      "outputs": [],
      "source": [
        "df= pd.read_csv(\"/data/PS_20174392719_1491204439457_log.csv\")"
      ]
    },
    {
      "cell_type": "code",
      "execution_count": null,
      "id": "18966239",
      "metadata": {
        "execution": {
          "iopub.execute_input": "2021-10-17T13:58:20.207052Z",
          "iopub.status.busy": "2021-10-17T13:58:20.206326Z",
          "iopub.status.idle": "2021-10-17T13:58:21.882441Z",
          "shell.execute_reply": "2021-10-17T13:58:21.881765Z",
          "shell.execute_reply.started": "2021-10-17T13:35:56.260634Z"
        },
        "papermill": {
          "duration": 1.99238,
          "end_time": "2021-10-17T13:58:21.882597",
          "exception": false,
          "start_time": "2021-10-17T13:58:19.890217",
          "status": "completed"
        },
        "scrolled": true,
        "tags": [],
        "id": "18966239",
        "outputId": "6af9535d-7693-4690-e3e8-7b3e94eb676f"
      },
      "outputs": [
        {
          "name": "stdout",
          "output_type": "stream",
          "text": [
            "<class 'pandas.core.frame.DataFrame'>\n",
            "RangeIndex: 6362620 entries, 0 to 6362619\n",
            "Data columns (total 11 columns):\n",
            " #   Column          Dtype  \n",
            "---  ------          -----  \n",
            " 0   step            int64  \n",
            " 1   type            object \n",
            " 2   amount          float64\n",
            " 3   nameOrig        object \n",
            " 4   oldbalanceOrg   float64\n",
            " 5   newbalanceOrig  float64\n",
            " 6   nameDest        object \n",
            " 7   oldbalanceDest  float64\n",
            " 8   newbalanceDest  float64\n",
            " 9   isFraud         int64  \n",
            " 10  isFlaggedFraud  int64  \n",
            "dtypes: float64(5), int64(3), object(3)\n",
            "memory usage: 534.0+ MB\n"
          ]
        }
      ],
      "source": [
        "df.describe()\n",
        "df.info()"
      ]
    },
    {
      "cell_type": "code",
      "execution_count": null,
      "id": "60f127f5",
      "metadata": {
        "execution": {
          "iopub.execute_input": "2021-10-17T13:58:22.043617Z",
          "iopub.status.busy": "2021-10-17T13:58:22.039172Z",
          "iopub.status.idle": "2021-10-17T13:58:22.065764Z",
          "shell.execute_reply": "2021-10-17T13:58:22.066248Z",
          "shell.execute_reply.started": "2021-10-17T13:35:57.854750Z"
        },
        "papermill": {
          "duration": 0.10785,
          "end_time": "2021-10-17T13:58:22.066428",
          "exception": false,
          "start_time": "2021-10-17T13:58:21.958578",
          "status": "completed"
        },
        "tags": [],
        "id": "60f127f5",
        "outputId": "423a1747-e7a9-419b-a480-906b09069b85"
      },
      "outputs": [
        {
          "data": {
            "text/html": [
              "<div>\n",
              "<style scoped>\n",
              "    .dataframe tbody tr th:only-of-type {\n",
              "        vertical-align: middle;\n",
              "    }\n",
              "\n",
              "    .dataframe tbody tr th {\n",
              "        vertical-align: top;\n",
              "    }\n",
              "\n",
              "    .dataframe thead th {\n",
              "        text-align: right;\n",
              "    }\n",
              "</style>\n",
              "<table border=\"1\" class=\"dataframe\">\n",
              "  <thead>\n",
              "    <tr style=\"text-align: right;\">\n",
              "      <th></th>\n",
              "      <th>step</th>\n",
              "      <th>type</th>\n",
              "      <th>amount</th>\n",
              "      <th>nameOrig</th>\n",
              "      <th>oldbalanceOrg</th>\n",
              "      <th>newbalanceOrig</th>\n",
              "      <th>nameDest</th>\n",
              "      <th>oldbalanceDest</th>\n",
              "      <th>newbalanceDest</th>\n",
              "      <th>isFraud</th>\n",
              "      <th>isFlaggedFraud</th>\n",
              "    </tr>\n",
              "  </thead>\n",
              "  <tbody>\n",
              "    <tr>\n",
              "      <th>0</th>\n",
              "      <td>1</td>\n",
              "      <td>PAYMENT</td>\n",
              "      <td>9839.64</td>\n",
              "      <td>C1231006815</td>\n",
              "      <td>170136.00</td>\n",
              "      <td>160296.36</td>\n",
              "      <td>M1979787155</td>\n",
              "      <td>0.0</td>\n",
              "      <td>0.00</td>\n",
              "      <td>0</td>\n",
              "      <td>0</td>\n",
              "    </tr>\n",
              "    <tr>\n",
              "      <th>1</th>\n",
              "      <td>1</td>\n",
              "      <td>PAYMENT</td>\n",
              "      <td>1864.28</td>\n",
              "      <td>C1666544295</td>\n",
              "      <td>21249.00</td>\n",
              "      <td>19384.72</td>\n",
              "      <td>M2044282225</td>\n",
              "      <td>0.0</td>\n",
              "      <td>0.00</td>\n",
              "      <td>0</td>\n",
              "      <td>0</td>\n",
              "    </tr>\n",
              "    <tr>\n",
              "      <th>2</th>\n",
              "      <td>1</td>\n",
              "      <td>TRANSFER</td>\n",
              "      <td>181.00</td>\n",
              "      <td>C1305486145</td>\n",
              "      <td>181.00</td>\n",
              "      <td>0.00</td>\n",
              "      <td>C553264065</td>\n",
              "      <td>0.0</td>\n",
              "      <td>0.00</td>\n",
              "      <td>1</td>\n",
              "      <td>0</td>\n",
              "    </tr>\n",
              "    <tr>\n",
              "      <th>3</th>\n",
              "      <td>1</td>\n",
              "      <td>CASH_OUT</td>\n",
              "      <td>181.00</td>\n",
              "      <td>C840083671</td>\n",
              "      <td>181.00</td>\n",
              "      <td>0.00</td>\n",
              "      <td>C38997010</td>\n",
              "      <td>21182.0</td>\n",
              "      <td>0.00</td>\n",
              "      <td>1</td>\n",
              "      <td>0</td>\n",
              "    </tr>\n",
              "    <tr>\n",
              "      <th>4</th>\n",
              "      <td>1</td>\n",
              "      <td>PAYMENT</td>\n",
              "      <td>11668.14</td>\n",
              "      <td>C2048537720</td>\n",
              "      <td>41554.00</td>\n",
              "      <td>29885.86</td>\n",
              "      <td>M1230701703</td>\n",
              "      <td>0.0</td>\n",
              "      <td>0.00</td>\n",
              "      <td>0</td>\n",
              "      <td>0</td>\n",
              "    </tr>\n",
              "    <tr>\n",
              "      <th>5</th>\n",
              "      <td>1</td>\n",
              "      <td>PAYMENT</td>\n",
              "      <td>7817.71</td>\n",
              "      <td>C90045638</td>\n",
              "      <td>53860.00</td>\n",
              "      <td>46042.29</td>\n",
              "      <td>M573487274</td>\n",
              "      <td>0.0</td>\n",
              "      <td>0.00</td>\n",
              "      <td>0</td>\n",
              "      <td>0</td>\n",
              "    </tr>\n",
              "    <tr>\n",
              "      <th>6</th>\n",
              "      <td>1</td>\n",
              "      <td>PAYMENT</td>\n",
              "      <td>7107.77</td>\n",
              "      <td>C154988899</td>\n",
              "      <td>183195.00</td>\n",
              "      <td>176087.23</td>\n",
              "      <td>M408069119</td>\n",
              "      <td>0.0</td>\n",
              "      <td>0.00</td>\n",
              "      <td>0</td>\n",
              "      <td>0</td>\n",
              "    </tr>\n",
              "    <tr>\n",
              "      <th>7</th>\n",
              "      <td>1</td>\n",
              "      <td>PAYMENT</td>\n",
              "      <td>7861.64</td>\n",
              "      <td>C1912850431</td>\n",
              "      <td>176087.23</td>\n",
              "      <td>168225.59</td>\n",
              "      <td>M633326333</td>\n",
              "      <td>0.0</td>\n",
              "      <td>0.00</td>\n",
              "      <td>0</td>\n",
              "      <td>0</td>\n",
              "    </tr>\n",
              "    <tr>\n",
              "      <th>8</th>\n",
              "      <td>1</td>\n",
              "      <td>PAYMENT</td>\n",
              "      <td>4024.36</td>\n",
              "      <td>C1265012928</td>\n",
              "      <td>2671.00</td>\n",
              "      <td>0.00</td>\n",
              "      <td>M1176932104</td>\n",
              "      <td>0.0</td>\n",
              "      <td>0.00</td>\n",
              "      <td>0</td>\n",
              "      <td>0</td>\n",
              "    </tr>\n",
              "    <tr>\n",
              "      <th>9</th>\n",
              "      <td>1</td>\n",
              "      <td>DEBIT</td>\n",
              "      <td>5337.77</td>\n",
              "      <td>C712410124</td>\n",
              "      <td>41720.00</td>\n",
              "      <td>36382.23</td>\n",
              "      <td>C195600860</td>\n",
              "      <td>41898.0</td>\n",
              "      <td>40348.79</td>\n",
              "      <td>0</td>\n",
              "      <td>0</td>\n",
              "    </tr>\n",
              "  </tbody>\n",
              "</table>\n",
              "</div>"
            ],
            "text/plain": [
              "   step      type    amount     nameOrig  oldbalanceOrg  newbalanceOrig  \\\n",
              "0     1   PAYMENT   9839.64  C1231006815      170136.00       160296.36   \n",
              "1     1   PAYMENT   1864.28  C1666544295       21249.00        19384.72   \n",
              "2     1  TRANSFER    181.00  C1305486145         181.00            0.00   \n",
              "3     1  CASH_OUT    181.00   C840083671         181.00            0.00   \n",
              "4     1   PAYMENT  11668.14  C2048537720       41554.00        29885.86   \n",
              "5     1   PAYMENT   7817.71    C90045638       53860.00        46042.29   \n",
              "6     1   PAYMENT   7107.77   C154988899      183195.00       176087.23   \n",
              "7     1   PAYMENT   7861.64  C1912850431      176087.23       168225.59   \n",
              "8     1   PAYMENT   4024.36  C1265012928        2671.00            0.00   \n",
              "9     1     DEBIT   5337.77   C712410124       41720.00        36382.23   \n",
              "\n",
              "      nameDest  oldbalanceDest  newbalanceDest  isFraud  isFlaggedFraud  \n",
              "0  M1979787155             0.0            0.00        0               0  \n",
              "1  M2044282225             0.0            0.00        0               0  \n",
              "2   C553264065             0.0            0.00        1               0  \n",
              "3    C38997010         21182.0            0.00        1               0  \n",
              "4  M1230701703             0.0            0.00        0               0  \n",
              "5   M573487274             0.0            0.00        0               0  \n",
              "6   M408069119             0.0            0.00        0               0  \n",
              "7   M633326333             0.0            0.00        0               0  \n",
              "8  M1176932104             0.0            0.00        0               0  \n",
              "9   C195600860         41898.0        40348.79        0               0  "
            ]
          },
          "execution_count": 5,
          "metadata": {},
          "output_type": "execute_result"
        }
      ],
      "source": [
        "df.head(10)"
      ]
    },
    {
      "cell_type": "code",
      "execution_count": null,
      "id": "4b506ce2",
      "metadata": {
        "execution": {
          "iopub.execute_input": "2021-10-17T13:58:22.229028Z",
          "iopub.status.busy": "2021-10-17T13:58:22.228084Z",
          "iopub.status.idle": "2021-10-17T13:58:22.232323Z",
          "shell.execute_reply": "2021-10-17T13:58:22.231800Z",
          "shell.execute_reply.started": "2021-10-17T13:35:57.885863Z"
        },
        "papermill": {
          "duration": 0.088656,
          "end_time": "2021-10-17T13:58:22.232472",
          "exception": false,
          "start_time": "2021-10-17T13:58:22.143816",
          "status": "completed"
        },
        "tags": [],
        "id": "4b506ce2",
        "outputId": "3e5927d5-1175-4390-a303-09b541a6fc92"
      },
      "outputs": [
        {
          "data": {
            "text/plain": [
              "69988820"
            ]
          },
          "execution_count": 6,
          "metadata": {},
          "output_type": "execute_result"
        }
      ],
      "source": [
        "df.size"
      ]
    },
    {
      "cell_type": "code",
      "execution_count": null,
      "id": "7f52db89",
      "metadata": {
        "execution": {
          "iopub.execute_input": "2021-10-17T13:58:22.394701Z",
          "iopub.status.busy": "2021-10-17T13:58:22.393981Z",
          "iopub.status.idle": "2021-10-17T13:58:25.553511Z",
          "shell.execute_reply": "2021-10-17T13:58:25.552881Z",
          "shell.execute_reply.started": "2021-10-17T13:35:57.896101Z"
        },
        "papermill": {
          "duration": 3.243172,
          "end_time": "2021-10-17T13:58:25.553669",
          "exception": false,
          "start_time": "2021-10-17T13:58:22.310497",
          "status": "completed"
        },
        "tags": [],
        "id": "7f52db89",
        "outputId": "9f1472be-4d4e-47cf-beef-d97d64a16f2a"
      },
      "outputs": [
        {
          "data": {
            "text/plain": [
              "69988820"
            ]
          },
          "execution_count": 7,
          "metadata": {},
          "output_type": "execute_result"
        }
      ],
      "source": [
        "df.dropna()\n",
        "df.size"
      ]
    },
    {
      "cell_type": "code",
      "execution_count": null,
      "id": "dfaf190d",
      "metadata": {
        "execution": {
          "iopub.execute_input": "2021-10-17T13:58:26.025066Z",
          "iopub.status.busy": "2021-10-17T13:58:26.024419Z",
          "iopub.status.idle": "2021-10-17T13:58:28.212173Z",
          "shell.execute_reply": "2021-10-17T13:58:28.211572Z",
          "shell.execute_reply.started": "2021-10-17T13:36:00.785726Z"
        },
        "papermill": {
          "duration": 2.270655,
          "end_time": "2021-10-17T13:58:28.212352",
          "exception": false,
          "start_time": "2021-10-17T13:58:25.941697",
          "status": "completed"
        },
        "tags": [],
        "id": "dfaf190d",
        "outputId": "83803ab4-34c2-411c-a98e-f5d6046c33a6"
      },
      "outputs": [
        {
          "name": "stdout",
          "output_type": "stream",
          "text": [
            "Null Values - False\n"
          ]
        }
      ],
      "source": [
        "### Checking for null values\n",
        "print('Null Values -', df.isnull().values.any())"
      ]
    },
    {
      "cell_type": "code",
      "execution_count": null,
      "id": "4478b44b",
      "metadata": {
        "execution": {
          "iopub.execute_input": "2021-10-17T13:58:28.574999Z",
          "iopub.status.busy": "2021-10-17T13:58:28.572336Z",
          "iopub.status.idle": "2021-10-17T13:58:29.363894Z",
          "shell.execute_reply": "2021-10-17T13:58:29.363373Z",
          "shell.execute_reply.started": "2021-10-17T13:36:02.932645Z"
        },
        "papermill": {
          "duration": 0.911291,
          "end_time": "2021-10-17T13:58:29.364051",
          "exception": false,
          "start_time": "2021-10-17T13:58:28.452760",
          "status": "completed"
        },
        "tags": [],
        "id": "4478b44b",
        "outputId": "5e9dbb47-d808-4924-b2a2-1ff7e41a15c8"
      },
      "outputs": [
        {
          "data": {
            "image/png": "[encoded data removed]",
            "text/plain": [
              "<Figure size 432x288 with 1 Axes>"
            ]
          },
          "metadata": {},
          "output_type": "display_data"
        }
      ],
      "source": [
        "df['isFraud'].value_counts()\n",
        "sns.set_theme(style=\"darkgrid\")\n",
        "ax = sns.countplot(x=\"isFraud\", data=df)\n",
        "for p in ax.patches:\n",
        "    ax.annotate(str(format(int(p.get_height()), ',d')), (p.get_x(), p.get_height()))"
      ]
    },
    {
      "cell_type": "code",
      "execution_count": null,
      "id": "58e80007",
      "metadata": {
        "execution": {
          "iopub.execute_input": "2021-10-17T13:58:29.527669Z",
          "iopub.status.busy": "2021-10-17T13:58:29.526942Z",
          "iopub.status.idle": "2021-10-17T13:58:29.532147Z",
          "shell.execute_reply": "2021-10-17T13:58:29.532651Z",
          "shell.execute_reply.started": "2021-10-17T13:36:03.575642Z"
        },
        "papermill": {
          "duration": 0.089335,
          "end_time": "2021-10-17T13:58:29.532843",
          "exception": false,
          "start_time": "2021-10-17T13:58:29.443508",
          "status": "completed"
        },
        "tags": [],
        "id": "58e80007",
        "outputId": "19c07476-bbb8-46aa-bd7f-d056e70091a8"
      },
      "outputs": [
        {
          "name": "stdout",
          "output_type": "stream",
          "text": [
            "The percentage of Fraud transactions is 0.13 %\n"
          ]
        }
      ],
      "source": [
        "import math\n",
        "a= (8213/(6354407+8213))*100\n",
        "print ('The percentage of Fraud transactions is ' \"%.2f\" % a, '%' )"
      ]
    },
    {
      "cell_type": "code",
      "execution_count": null,
      "id": "bb785c33",
      "metadata": {
        "execution": {
          "iopub.execute_input": "2021-10-17T13:58:30.894066Z",
          "iopub.status.busy": "2021-10-17T13:58:30.893314Z",
          "iopub.status.idle": "2021-10-17T13:58:32.115393Z",
          "shell.execute_reply": "2021-10-17T13:58:32.114719Z",
          "shell.execute_reply.started": "2021-10-17T13:36:03.582167Z"
        },
        "papermill": {
          "duration": 2.3437,
          "end_time": "2021-10-17T13:58:32.115542",
          "exception": false,
          "start_time": "2021-10-17T13:58:29.771842",
          "status": "completed"
        },
        "tags": [],
        "id": "bb785c33",
        "outputId": "5945c992-db78-4840-c0a7-f99987fbacc5"
      },
      "outputs": [
        {
          "name": "stdout",
          "output_type": "stream",
          "text": [
            "CASH_OUT    2237500\n",
            "PAYMENT     2151495\n",
            "CASH_IN     1399284\n",
            "TRANSFER     532909\n",
            "DEBIT         41432\n",
            "Name: type, dtype: int64\n"
          ]
        },
        {
          "data": {
            "image/png": "[encoded data removed]",
            "text/plain": [
              "<Figure size 576x576 with 1 Axes>"
            ]
          },
          "metadata": {},
          "output_type": "display_data"
        }
      ],
      "source": [
        "print(df.type.value_counts())\n",
        "f, ax = plt.subplots(1, 1, figsize=(8, 8))\n",
        "df.type.value_counts().plot(kind='bar', title=\"Transaction type\", ax=ax, figsize=(8,8))\n",
        "plt.ticklabel_format(style='plain', axis='y')\n",
        "for p in ax.patches:\n",
        "    ax.annotate(str(format(int(p.get_height()), ',d')), (p.get_x(), p.get_height()))\n",
        "plt.show()"
      ]
    },
    {
      "cell_type": "code",
      "execution_count": null,
      "id": "44e43671",
      "metadata": {
        "execution": {
          "iopub.execute_input": "2021-10-17T13:58:34.139542Z",
          "iopub.status.busy": "2021-10-17T13:58:34.138518Z",
          "iopub.status.idle": "2021-10-17T13:58:34.409517Z",
          "shell.execute_reply": "2021-10-17T13:58:34.408847Z",
          "shell.execute_reply.started": "2021-10-17T13:36:05.918738Z"
        },
        "papermill": {
          "duration": 1.397352,
          "end_time": "2021-10-17T13:58:34.409663",
          "exception": false,
          "start_time": "2021-10-17T13:58:33.012311",
          "status": "completed"
        },
        "tags": [],
        "id": "44e43671",
        "outputId": "b0dd7f89-9382-4273-fc98-1b2f06c98d78"
      },
      "outputs": [
        {
          "data": {
            "text/html": [
              "<div>\n",
              "<style scoped>\n",
              "    .dataframe tbody tr th:only-of-type {\n",
              "        vertical-align: middle;\n",
              "    }\n",
              "\n",
              "    .dataframe tbody tr th {\n",
              "        vertical-align: top;\n",
              "    }\n",
              "\n",
              "    .dataframe thead th {\n",
              "        text-align: right;\n",
              "    }\n",
              "</style>\n",
              "<table border=\"1\" class=\"dataframe\">\n",
              "  <thead>\n",
              "    <tr style=\"text-align: right;\">\n",
              "      <th></th>\n",
              "      <th>step</th>\n",
              "      <th>type</th>\n",
              "      <th>amount</th>\n",
              "      <th>nameOrig</th>\n",
              "      <th>oldbalanceOrg</th>\n",
              "      <th>newbalanceOrig</th>\n",
              "      <th>nameDest</th>\n",
              "      <th>oldbalanceDest</th>\n",
              "      <th>newbalanceDest</th>\n",
              "      <th>isFraud</th>\n",
              "      <th>isFlaggedFraud</th>\n",
              "    </tr>\n",
              "  </thead>\n",
              "  <tbody>\n",
              "    <tr>\n",
              "      <th>0</th>\n",
              "      <td>1</td>\n",
              "      <td>PAYMENT</td>\n",
              "      <td>9839.64</td>\n",
              "      <td>C1231006815</td>\n",
              "      <td>170136.0</td>\n",
              "      <td>160296.36</td>\n",
              "      <td>M1979787155</td>\n",
              "      <td>0.0</td>\n",
              "      <td>0.0</td>\n",
              "      <td>0</td>\n",
              "      <td>0</td>\n",
              "    </tr>\n",
              "    <tr>\n",
              "      <th>1</th>\n",
              "      <td>1</td>\n",
              "      <td>PAYMENT</td>\n",
              "      <td>1864.28</td>\n",
              "      <td>C1666544295</td>\n",
              "      <td>21249.0</td>\n",
              "      <td>19384.72</td>\n",
              "      <td>M2044282225</td>\n",
              "      <td>0.0</td>\n",
              "      <td>0.0</td>\n",
              "      <td>0</td>\n",
              "      <td>0</td>\n",
              "    </tr>\n",
              "    <tr>\n",
              "      <th>4</th>\n",
              "      <td>1</td>\n",
              "      <td>PAYMENT</td>\n",
              "      <td>11668.14</td>\n",
              "      <td>C2048537720</td>\n",
              "      <td>41554.0</td>\n",
              "      <td>29885.86</td>\n",
              "      <td>M1230701703</td>\n",
              "      <td>0.0</td>\n",
              "      <td>0.0</td>\n",
              "      <td>0</td>\n",
              "      <td>0</td>\n",
              "    </tr>\n",
              "    <tr>\n",
              "      <th>5</th>\n",
              "      <td>1</td>\n",
              "      <td>PAYMENT</td>\n",
              "      <td>7817.71</td>\n",
              "      <td>C90045638</td>\n",
              "      <td>53860.0</td>\n",
              "      <td>46042.29</td>\n",
              "      <td>M573487274</td>\n",
              "      <td>0.0</td>\n",
              "      <td>0.0</td>\n",
              "      <td>0</td>\n",
              "      <td>0</td>\n",
              "    </tr>\n",
              "    <tr>\n",
              "      <th>6</th>\n",
              "      <td>1</td>\n",
              "      <td>PAYMENT</td>\n",
              "      <td>7107.77</td>\n",
              "      <td>C154988899</td>\n",
              "      <td>183195.0</td>\n",
              "      <td>176087.23</td>\n",
              "      <td>M408069119</td>\n",
              "      <td>0.0</td>\n",
              "      <td>0.0</td>\n",
              "      <td>0</td>\n",
              "      <td>0</td>\n",
              "    </tr>\n",
              "  </tbody>\n",
              "</table>\n",
              "</div>"
            ],
            "text/plain": [
              "   step     type    amount     nameOrig  oldbalanceOrg  newbalanceOrig  \\\n",
              "0     1  PAYMENT   9839.64  C1231006815       170136.0       160296.36   \n",
              "1     1  PAYMENT   1864.28  C1666544295        21249.0        19384.72   \n",
              "4     1  PAYMENT  11668.14  C2048537720        41554.0        29885.86   \n",
              "5     1  PAYMENT   7817.71    C90045638        53860.0        46042.29   \n",
              "6     1  PAYMENT   7107.77   C154988899       183195.0       176087.23   \n",
              "\n",
              "      nameDest  oldbalanceDest  newbalanceDest  isFraud  isFlaggedFraud  \n",
              "0  M1979787155             0.0             0.0        0               0  \n",
              "1  M2044282225             0.0             0.0        0               0  \n",
              "4  M1230701703             0.0             0.0        0               0  \n",
              "5   M573487274             0.0             0.0        0               0  \n",
              "6   M408069119             0.0             0.0        0               0  "
            ]
          },
          "execution_count": 12,
          "metadata": {},
          "output_type": "execute_result"
        }
      ],
      "source": [
        "payment_df = df[df[\"type\"] == 'PAYMENT']\n",
        "payment_df.head(5)"
      ]
    },
    {
      "cell_type": "code",
      "execution_count": null,
      "id": "d1d72f26",
      "metadata": {
        "execution": {
          "iopub.execute_input": "2021-10-17T13:58:35.728390Z",
          "iopub.status.busy": "2021-10-17T13:58:35.727195Z",
          "iopub.status.idle": "2021-10-17T13:58:35.844844Z",
          "shell.execute_reply": "2021-10-17T13:58:35.845319Z",
          "shell.execute_reply.started": "2021-10-17T13:36:07.153024Z"
        },
        "papermill": {
          "duration": 1.190878,
          "end_time": "2021-10-17T13:58:35.845494",
          "exception": false,
          "start_time": "2021-10-17T13:58:34.654616",
          "status": "completed"
        },
        "tags": [],
        "id": "d1d72f26",
        "outputId": "51e91b69-4fe3-4b4e-9fa5-48bdefff702c"
      },
      "outputs": [
        {
          "data": {
            "text/html": [
              "<div>\n",
              "<style scoped>\n",
              "    .dataframe tbody tr th:only-of-type {\n",
              "        vertical-align: middle;\n",
              "    }\n",
              "\n",
              "    .dataframe tbody tr th {\n",
              "        vertical-align: top;\n",
              "    }\n",
              "\n",
              "    .dataframe thead th {\n",
              "        text-align: right;\n",
              "    }\n",
              "</style>\n",
              "<table border=\"1\" class=\"dataframe\">\n",
              "  <thead>\n",
              "    <tr style=\"text-align: right;\">\n",
              "      <th></th>\n",
              "      <th>step</th>\n",
              "      <th>type</th>\n",
              "      <th>amount</th>\n",
              "      <th>nameOrig</th>\n",
              "      <th>oldbalanceOrg</th>\n",
              "      <th>newbalanceOrig</th>\n",
              "      <th>nameDest</th>\n",
              "      <th>oldbalanceDest</th>\n",
              "      <th>newbalanceDest</th>\n",
              "      <th>isFraud</th>\n",
              "      <th>isFlaggedFraud</th>\n",
              "    </tr>\n",
              "  </thead>\n",
              "  <tbody>\n",
              "    <tr>\n",
              "      <th>2</th>\n",
              "      <td>1</td>\n",
              "      <td>TRANSFER</td>\n",
              "      <td>181.00</td>\n",
              "      <td>C1305486145</td>\n",
              "      <td>181.00</td>\n",
              "      <td>0.0</td>\n",
              "      <td>C553264065</td>\n",
              "      <td>0.00</td>\n",
              "      <td>0.00</td>\n",
              "      <td>1</td>\n",
              "      <td>0</td>\n",
              "    </tr>\n",
              "    <tr>\n",
              "      <th>19</th>\n",
              "      <td>1</td>\n",
              "      <td>TRANSFER</td>\n",
              "      <td>215310.30</td>\n",
              "      <td>C1670993182</td>\n",
              "      <td>705.00</td>\n",
              "      <td>0.0</td>\n",
              "      <td>C1100439041</td>\n",
              "      <td>22425.00</td>\n",
              "      <td>0.00</td>\n",
              "      <td>0</td>\n",
              "      <td>0</td>\n",
              "    </tr>\n",
              "    <tr>\n",
              "      <th>24</th>\n",
              "      <td>1</td>\n",
              "      <td>TRANSFER</td>\n",
              "      <td>311685.89</td>\n",
              "      <td>C1984094095</td>\n",
              "      <td>10835.00</td>\n",
              "      <td>0.0</td>\n",
              "      <td>C932583850</td>\n",
              "      <td>6267.00</td>\n",
              "      <td>2719172.89</td>\n",
              "      <td>0</td>\n",
              "      <td>0</td>\n",
              "    </tr>\n",
              "    <tr>\n",
              "      <th>58</th>\n",
              "      <td>1</td>\n",
              "      <td>TRANSFER</td>\n",
              "      <td>62610.80</td>\n",
              "      <td>C1976401987</td>\n",
              "      <td>79114.00</td>\n",
              "      <td>16503.2</td>\n",
              "      <td>C1937962514</td>\n",
              "      <td>517.00</td>\n",
              "      <td>8383.29</td>\n",
              "      <td>0</td>\n",
              "      <td>0</td>\n",
              "    </tr>\n",
              "    <tr>\n",
              "      <th>78</th>\n",
              "      <td>1</td>\n",
              "      <td>TRANSFER</td>\n",
              "      <td>42712.39</td>\n",
              "      <td>C283039401</td>\n",
              "      <td>10363.39</td>\n",
              "      <td>0.0</td>\n",
              "      <td>C1330106945</td>\n",
              "      <td>57901.66</td>\n",
              "      <td>24044.18</td>\n",
              "      <td>0</td>\n",
              "      <td>0</td>\n",
              "    </tr>\n",
              "  </tbody>\n",
              "</table>\n",
              "</div>"
            ],
            "text/plain": [
              "    step      type     amount     nameOrig  oldbalanceOrg  newbalanceOrig  \\\n",
              "2      1  TRANSFER     181.00  C1305486145         181.00             0.0   \n",
              "19     1  TRANSFER  215310.30  C1670993182         705.00             0.0   \n",
              "24     1  TRANSFER  311685.89  C1984094095       10835.00             0.0   \n",
              "58     1  TRANSFER   62610.80  C1976401987       79114.00         16503.2   \n",
              "78     1  TRANSFER   42712.39   C283039401       10363.39             0.0   \n",
              "\n",
              "       nameDest  oldbalanceDest  newbalanceDest  isFraud  isFlaggedFraud  \n",
              "2    C553264065            0.00            0.00        1               0  \n",
              "19  C1100439041        22425.00            0.00        0               0  \n",
              "24   C932583850         6267.00      2719172.89        0               0  \n",
              "58  C1937962514          517.00         8383.29        0               0  \n",
              "78  C1330106945        57901.66        24044.18        0               0  "
            ]
          },
          "execution_count": 13,
          "metadata": {},
          "output_type": "execute_result"
        }
      ],
      "source": [
        "transfer_df = df[df[\"type\"] == 'TRANSFER']\n",
        "transfer_df.head(5)"
      ]
    },
    {
      "cell_type": "code",
      "execution_count": null,
      "id": "8d892b61",
      "metadata": {
        "execution": {
          "iopub.execute_input": "2021-10-17T13:58:37.194624Z",
          "iopub.status.busy": "2021-10-17T13:58:37.193669Z",
          "iopub.status.idle": "2021-10-17T13:58:37.455038Z",
          "shell.execute_reply": "2021-10-17T13:58:37.454418Z",
          "shell.execute_reply.started": "2021-10-17T13:36:08.247997Z"
        },
        "papermill": {
          "duration": 1.363086,
          "end_time": "2021-10-17T13:58:37.455192",
          "exception": false,
          "start_time": "2021-10-17T13:58:36.092106",
          "status": "completed"
        },
        "tags": [],
        "id": "8d892b61",
        "outputId": "40209f91-9901-476e-9087-beded4ce026d"
      },
      "outputs": [
        {
          "data": {
            "text/html": [
              "<div>\n",
              "<style scoped>\n",
              "    .dataframe tbody tr th:only-of-type {\n",
              "        vertical-align: middle;\n",
              "    }\n",
              "\n",
              "    .dataframe tbody tr th {\n",
              "        vertical-align: top;\n",
              "    }\n",
              "\n",
              "    .dataframe thead th {\n",
              "        text-align: right;\n",
              "    }\n",
              "</style>\n",
              "<table border=\"1\" class=\"dataframe\">\n",
              "  <thead>\n",
              "    <tr style=\"text-align: right;\">\n",
              "      <th></th>\n",
              "      <th>step</th>\n",
              "      <th>type</th>\n",
              "      <th>amount</th>\n",
              "      <th>nameOrig</th>\n",
              "      <th>oldbalanceOrg</th>\n",
              "      <th>newbalanceOrig</th>\n",
              "      <th>nameDest</th>\n",
              "      <th>oldbalanceDest</th>\n",
              "      <th>newbalanceDest</th>\n",
              "      <th>isFraud</th>\n",
              "      <th>isFlaggedFraud</th>\n",
              "    </tr>\n",
              "  </thead>\n",
              "  <tbody>\n",
              "    <tr>\n",
              "      <th>3</th>\n",
              "      <td>1</td>\n",
              "      <td>CASH_OUT</td>\n",
              "      <td>181.00</td>\n",
              "      <td>C840083671</td>\n",
              "      <td>181.00</td>\n",
              "      <td>0.0</td>\n",
              "      <td>C38997010</td>\n",
              "      <td>21182.0</td>\n",
              "      <td>0.00</td>\n",
              "      <td>1</td>\n",
              "      <td>0</td>\n",
              "    </tr>\n",
              "    <tr>\n",
              "      <th>15</th>\n",
              "      <td>1</td>\n",
              "      <td>CASH_OUT</td>\n",
              "      <td>229133.94</td>\n",
              "      <td>C905080434</td>\n",
              "      <td>15325.00</td>\n",
              "      <td>0.0</td>\n",
              "      <td>C476402209</td>\n",
              "      <td>5083.0</td>\n",
              "      <td>51513.44</td>\n",
              "      <td>0</td>\n",
              "      <td>0</td>\n",
              "    </tr>\n",
              "    <tr>\n",
              "      <th>42</th>\n",
              "      <td>1</td>\n",
              "      <td>CASH_OUT</td>\n",
              "      <td>110414.71</td>\n",
              "      <td>C768216420</td>\n",
              "      <td>26845.41</td>\n",
              "      <td>0.0</td>\n",
              "      <td>C1509514333</td>\n",
              "      <td>288800.0</td>\n",
              "      <td>2415.16</td>\n",
              "      <td>0</td>\n",
              "      <td>0</td>\n",
              "    </tr>\n",
              "    <tr>\n",
              "      <th>47</th>\n",
              "      <td>1</td>\n",
              "      <td>CASH_OUT</td>\n",
              "      <td>56953.90</td>\n",
              "      <td>C1570470538</td>\n",
              "      <td>1942.02</td>\n",
              "      <td>0.0</td>\n",
              "      <td>C824009085</td>\n",
              "      <td>70253.0</td>\n",
              "      <td>64106.18</td>\n",
              "      <td>0</td>\n",
              "      <td>0</td>\n",
              "    </tr>\n",
              "    <tr>\n",
              "      <th>48</th>\n",
              "      <td>1</td>\n",
              "      <td>CASH_OUT</td>\n",
              "      <td>5346.89</td>\n",
              "      <td>C512549200</td>\n",
              "      <td>0.00</td>\n",
              "      <td>0.0</td>\n",
              "      <td>C248609774</td>\n",
              "      <td>652637.0</td>\n",
              "      <td>6453430.91</td>\n",
              "      <td>0</td>\n",
              "      <td>0</td>\n",
              "    </tr>\n",
              "  </tbody>\n",
              "</table>\n",
              "</div>"
            ],
            "text/plain": [
              "    step      type     amount     nameOrig  oldbalanceOrg  newbalanceOrig  \\\n",
              "3      1  CASH_OUT     181.00   C840083671         181.00             0.0   \n",
              "15     1  CASH_OUT  229133.94   C905080434       15325.00             0.0   \n",
              "42     1  CASH_OUT  110414.71   C768216420       26845.41             0.0   \n",
              "47     1  CASH_OUT   56953.90  C1570470538        1942.02             0.0   \n",
              "48     1  CASH_OUT    5346.89   C512549200           0.00             0.0   \n",
              "\n",
              "       nameDest  oldbalanceDest  newbalanceDest  isFraud  isFlaggedFraud  \n",
              "3     C38997010         21182.0            0.00        1               0  \n",
              "15   C476402209          5083.0        51513.44        0               0  \n",
              "42  C1509514333        288800.0         2415.16        0               0  \n",
              "47   C824009085         70253.0        64106.18        0               0  \n",
              "48   C248609774        652637.0      6453430.91        0               0  "
            ]
          },
          "execution_count": 14,
          "metadata": {},
          "output_type": "execute_result"
        }
      ],
      "source": [
        "cashout_df = df[df[\"type\"] == 'CASH_OUT']\n",
        "cashout_df.head(5)"
      ]
    },
    {
      "cell_type": "code",
      "execution_count": null,
      "id": "313eaa73",
      "metadata": {
        "execution": {
          "iopub.execute_input": "2021-10-17T13:58:38.828671Z",
          "iopub.status.busy": "2021-10-17T13:58:38.827866Z",
          "iopub.status.idle": "2021-10-17T13:58:39.022668Z",
          "shell.execute_reply": "2021-10-17T13:58:39.023196Z",
          "shell.execute_reply.started": "2021-10-17T13:36:09.481169Z"
        },
        "papermill": {
          "duration": 1.321768,
          "end_time": "2021-10-17T13:58:39.023404",
          "exception": false,
          "start_time": "2021-10-17T13:58:37.701636",
          "status": "completed"
        },
        "tags": [],
        "id": "313eaa73",
        "outputId": "dd03caf6-f2e6-42cc-8cff-1200f1338237"
      },
      "outputs": [
        {
          "data": {
            "text/html": [
              "<div>\n",
              "<style scoped>\n",
              "    .dataframe tbody tr th:only-of-type {\n",
              "        vertical-align: middle;\n",
              "    }\n",
              "\n",
              "    .dataframe tbody tr th {\n",
              "        vertical-align: top;\n",
              "    }\n",
              "\n",
              "    .dataframe thead th {\n",
              "        text-align: right;\n",
              "    }\n",
              "</style>\n",
              "<table border=\"1\" class=\"dataframe\">\n",
              "  <thead>\n",
              "    <tr style=\"text-align: right;\">\n",
              "      <th></th>\n",
              "      <th>step</th>\n",
              "      <th>type</th>\n",
              "      <th>amount</th>\n",
              "      <th>nameOrig</th>\n",
              "      <th>oldbalanceOrg</th>\n",
              "      <th>newbalanceOrig</th>\n",
              "      <th>nameDest</th>\n",
              "      <th>oldbalanceDest</th>\n",
              "      <th>newbalanceDest</th>\n",
              "      <th>isFraud</th>\n",
              "      <th>isFlaggedFraud</th>\n",
              "    </tr>\n",
              "  </thead>\n",
              "  <tbody>\n",
              "    <tr>\n",
              "      <th>389</th>\n",
              "      <td>1</td>\n",
              "      <td>CASH_IN</td>\n",
              "      <td>143236.26</td>\n",
              "      <td>C1862994526</td>\n",
              "      <td>0.00</td>\n",
              "      <td>143236.26</td>\n",
              "      <td>C1688019098</td>\n",
              "      <td>608932.17</td>\n",
              "      <td>97263.78</td>\n",
              "      <td>0</td>\n",
              "      <td>0</td>\n",
              "    </tr>\n",
              "    <tr>\n",
              "      <th>390</th>\n",
              "      <td>1</td>\n",
              "      <td>CASH_IN</td>\n",
              "      <td>228451.89</td>\n",
              "      <td>C1614133563</td>\n",
              "      <td>143236.26</td>\n",
              "      <td>371688.15</td>\n",
              "      <td>C2083562754</td>\n",
              "      <td>719678.38</td>\n",
              "      <td>1186556.81</td>\n",
              "      <td>0</td>\n",
              "      <td>0</td>\n",
              "    </tr>\n",
              "    <tr>\n",
              "      <th>391</th>\n",
              "      <td>1</td>\n",
              "      <td>CASH_IN</td>\n",
              "      <td>35902.49</td>\n",
              "      <td>C839771540</td>\n",
              "      <td>371688.15</td>\n",
              "      <td>407590.65</td>\n",
              "      <td>C2001112025</td>\n",
              "      <td>49003.30</td>\n",
              "      <td>0.00</td>\n",
              "      <td>0</td>\n",
              "      <td>0</td>\n",
              "    </tr>\n",
              "    <tr>\n",
              "      <th>392</th>\n",
              "      <td>1</td>\n",
              "      <td>CASH_IN</td>\n",
              "      <td>232953.64</td>\n",
              "      <td>C1037163664</td>\n",
              "      <td>407590.65</td>\n",
              "      <td>640544.28</td>\n",
              "      <td>C33524623</td>\n",
              "      <td>1172672.27</td>\n",
              "      <td>1517262.16</td>\n",
              "      <td>0</td>\n",
              "      <td>0</td>\n",
              "    </tr>\n",
              "    <tr>\n",
              "      <th>393</th>\n",
              "      <td>1</td>\n",
              "      <td>CASH_IN</td>\n",
              "      <td>65912.95</td>\n",
              "      <td>C180316302</td>\n",
              "      <td>640544.28</td>\n",
              "      <td>706457.23</td>\n",
              "      <td>C1330106945</td>\n",
              "      <td>104198.26</td>\n",
              "      <td>24044.18</td>\n",
              "      <td>0</td>\n",
              "      <td>0</td>\n",
              "    </tr>\n",
              "  </tbody>\n",
              "</table>\n",
              "</div>"
            ],
            "text/plain": [
              "     step     type     amount     nameOrig  oldbalanceOrg  newbalanceOrig  \\\n",
              "389     1  CASH_IN  143236.26  C1862994526           0.00       143236.26   \n",
              "390     1  CASH_IN  228451.89  C1614133563      143236.26       371688.15   \n",
              "391     1  CASH_IN   35902.49   C839771540      371688.15       407590.65   \n",
              "392     1  CASH_IN  232953.64  C1037163664      407590.65       640544.28   \n",
              "393     1  CASH_IN   65912.95   C180316302      640544.28       706457.23   \n",
              "\n",
              "        nameDest  oldbalanceDest  newbalanceDest  isFraud  isFlaggedFraud  \n",
              "389  C1688019098       608932.17        97263.78        0               0  \n",
              "390  C2083562754       719678.38      1186556.81        0               0  \n",
              "391  C2001112025        49003.30            0.00        0               0  \n",
              "392    C33524623      1172672.27      1517262.16        0               0  \n",
              "393  C1330106945       104198.26        24044.18        0               0  "
            ]
          },
          "execution_count": 15,
          "metadata": {},
          "output_type": "execute_result"
        }
      ],
      "source": [
        "cashin_df = df[df[\"type\"] == 'CASH_IN']\n",
        "cashin_df.head(5)"
      ]
    },
    {
      "cell_type": "code",
      "execution_count": null,
      "id": "743d7bc8",
      "metadata": {
        "execution": {
          "iopub.execute_input": "2021-10-17T13:58:40.309031Z",
          "iopub.status.busy": "2021-10-17T13:58:40.308286Z",
          "iopub.status.idle": "2021-10-17T13:58:40.364973Z",
          "shell.execute_reply": "2021-10-17T13:58:40.364446Z",
          "shell.execute_reply.started": "2021-10-17T13:36:10.746771Z"
        },
        "papermill": {
          "duration": 1.089106,
          "end_time": "2021-10-17T13:58:40.365129",
          "exception": false,
          "start_time": "2021-10-17T13:58:39.276023",
          "status": "completed"
        },
        "tags": [],
        "id": "743d7bc8",
        "outputId": "614b960d-4949-41b4-c79c-a3e40cb1ced2"
      },
      "outputs": [
        {
          "data": {
            "text/html": [
              "<div>\n",
              "<style scoped>\n",
              "    .dataframe tbody tr th:only-of-type {\n",
              "        vertical-align: middle;\n",
              "    }\n",
              "\n",
              "    .dataframe tbody tr th {\n",
              "        vertical-align: top;\n",
              "    }\n",
              "\n",
              "    .dataframe thead th {\n",
              "        text-align: right;\n",
              "    }\n",
              "</style>\n",
              "<table border=\"1\" class=\"dataframe\">\n",
              "  <thead>\n",
              "    <tr style=\"text-align: right;\">\n",
              "      <th></th>\n",
              "      <th>step</th>\n",
              "      <th>type</th>\n",
              "      <th>amount</th>\n",
              "      <th>nameOrig</th>\n",
              "      <th>oldbalanceOrg</th>\n",
              "      <th>newbalanceOrig</th>\n",
              "      <th>nameDest</th>\n",
              "      <th>oldbalanceDest</th>\n",
              "      <th>newbalanceDest</th>\n",
              "      <th>isFraud</th>\n",
              "      <th>isFlaggedFraud</th>\n",
              "    </tr>\n",
              "  </thead>\n",
              "  <tbody>\n",
              "    <tr>\n",
              "      <th>9</th>\n",
              "      <td>1</td>\n",
              "      <td>DEBIT</td>\n",
              "      <td>5337.77</td>\n",
              "      <td>C712410124</td>\n",
              "      <td>41720.0</td>\n",
              "      <td>36382.23</td>\n",
              "      <td>C195600860</td>\n",
              "      <td>41898.0</td>\n",
              "      <td>40348.79</td>\n",
              "      <td>0</td>\n",
              "      <td>0</td>\n",
              "    </tr>\n",
              "    <tr>\n",
              "      <th>10</th>\n",
              "      <td>1</td>\n",
              "      <td>DEBIT</td>\n",
              "      <td>9644.94</td>\n",
              "      <td>C1900366749</td>\n",
              "      <td>4465.0</td>\n",
              "      <td>0.00</td>\n",
              "      <td>C997608398</td>\n",
              "      <td>10845.0</td>\n",
              "      <td>157982.12</td>\n",
              "      <td>0</td>\n",
              "      <td>0</td>\n",
              "    </tr>\n",
              "    <tr>\n",
              "      <th>21</th>\n",
              "      <td>1</td>\n",
              "      <td>DEBIT</td>\n",
              "      <td>9302.79</td>\n",
              "      <td>C1566511282</td>\n",
              "      <td>11299.0</td>\n",
              "      <td>1996.21</td>\n",
              "      <td>C1973538135</td>\n",
              "      <td>29832.0</td>\n",
              "      <td>16896.70</td>\n",
              "      <td>0</td>\n",
              "      <td>0</td>\n",
              "    </tr>\n",
              "    <tr>\n",
              "      <th>22</th>\n",
              "      <td>1</td>\n",
              "      <td>DEBIT</td>\n",
              "      <td>1065.41</td>\n",
              "      <td>C1959239586</td>\n",
              "      <td>1817.0</td>\n",
              "      <td>751.59</td>\n",
              "      <td>C515132998</td>\n",
              "      <td>10330.0</td>\n",
              "      <td>0.00</td>\n",
              "      <td>0</td>\n",
              "      <td>0</td>\n",
              "    </tr>\n",
              "    <tr>\n",
              "      <th>41</th>\n",
              "      <td>1</td>\n",
              "      <td>DEBIT</td>\n",
              "      <td>5758.59</td>\n",
              "      <td>C1466917878</td>\n",
              "      <td>32604.0</td>\n",
              "      <td>26845.41</td>\n",
              "      <td>C1297685781</td>\n",
              "      <td>209699.0</td>\n",
              "      <td>16997.22</td>\n",
              "      <td>0</td>\n",
              "      <td>0</td>\n",
              "    </tr>\n",
              "  </tbody>\n",
              "</table>\n",
              "</div>"
            ],
            "text/plain": [
              "    step   type   amount     nameOrig  oldbalanceOrg  newbalanceOrig  \\\n",
              "9      1  DEBIT  5337.77   C712410124        41720.0        36382.23   \n",
              "10     1  DEBIT  9644.94  C1900366749         4465.0            0.00   \n",
              "21     1  DEBIT  9302.79  C1566511282        11299.0         1996.21   \n",
              "22     1  DEBIT  1065.41  C1959239586         1817.0          751.59   \n",
              "41     1  DEBIT  5758.59  C1466917878        32604.0        26845.41   \n",
              "\n",
              "       nameDest  oldbalanceDest  newbalanceDest  isFraud  isFlaggedFraud  \n",
              "9    C195600860         41898.0        40348.79        0               0  \n",
              "10   C997608398         10845.0       157982.12        0               0  \n",
              "21  C1973538135         29832.0        16896.70        0               0  \n",
              "22   C515132998         10330.0            0.00        0               0  \n",
              "41  C1297685781        209699.0        16997.22        0               0  "
            ]
          },
          "execution_count": 16,
          "metadata": {},
          "output_type": "execute_result"
        }
      ],
      "source": [
        "debit_df = df[df[\"type\"] == 'DEBIT']\n",
        "debit_df.head(5)"
      ]
    },
    {
      "cell_type": "code",
      "execution_count": null,
      "id": "f3c25809",
      "metadata": {
        "execution": {
          "iopub.execute_input": "2021-10-17T13:58:40.710199Z",
          "iopub.status.busy": "2021-10-17T13:58:40.709523Z",
          "iopub.status.idle": "2021-10-17T13:58:40.741255Z",
          "shell.execute_reply": "2021-10-17T13:58:40.741767Z",
          "shell.execute_reply.started": "2021-10-17T13:36:11.710664Z"
        },
        "papermill": {
          "duration": 0.125217,
          "end_time": "2021-10-17T13:58:40.741945",
          "exception": false,
          "start_time": "2021-10-17T13:58:40.616728",
          "status": "completed"
        },
        "tags": [],
        "id": "f3c25809",
        "outputId": "8c5a1ffc-398f-424a-b1a5-891712ad6487"
      },
      "outputs": [
        {
          "data": {
            "text/html": [
              "<div>\n",
              "<style scoped>\n",
              "    .dataframe tbody tr th:only-of-type {\n",
              "        vertical-align: middle;\n",
              "    }\n",
              "\n",
              "    .dataframe tbody tr th {\n",
              "        vertical-align: top;\n",
              "    }\n",
              "\n",
              "    .dataframe thead th {\n",
              "        text-align: right;\n",
              "    }\n",
              "</style>\n",
              "<table border=\"1\" class=\"dataframe\">\n",
              "  <thead>\n",
              "    <tr style=\"text-align: right;\">\n",
              "      <th></th>\n",
              "      <th>step</th>\n",
              "      <th>type</th>\n",
              "      <th>amount</th>\n",
              "      <th>nameOrig</th>\n",
              "      <th>oldbalanceOrg</th>\n",
              "      <th>newbalanceOrig</th>\n",
              "      <th>nameDest</th>\n",
              "      <th>oldbalanceDest</th>\n",
              "      <th>newbalanceDest</th>\n",
              "      <th>isFraud</th>\n",
              "      <th>isFlaggedFraud</th>\n",
              "    </tr>\n",
              "  </thead>\n",
              "  <tbody>\n",
              "    <tr>\n",
              "      <th>2</th>\n",
              "      <td>1</td>\n",
              "      <td>TRANSFER</td>\n",
              "      <td>181.00</td>\n",
              "      <td>C1305486145</td>\n",
              "      <td>181.00</td>\n",
              "      <td>0.0</td>\n",
              "      <td>C553264065</td>\n",
              "      <td>0.00</td>\n",
              "      <td>0.00</td>\n",
              "      <td>1</td>\n",
              "      <td>0</td>\n",
              "    </tr>\n",
              "    <tr>\n",
              "      <th>3</th>\n",
              "      <td>1</td>\n",
              "      <td>CASH_OUT</td>\n",
              "      <td>181.00</td>\n",
              "      <td>C840083671</td>\n",
              "      <td>181.00</td>\n",
              "      <td>0.0</td>\n",
              "      <td>C38997010</td>\n",
              "      <td>21182.00</td>\n",
              "      <td>0.00</td>\n",
              "      <td>1</td>\n",
              "      <td>0</td>\n",
              "    </tr>\n",
              "    <tr>\n",
              "      <th>251</th>\n",
              "      <td>1</td>\n",
              "      <td>TRANSFER</td>\n",
              "      <td>2806.00</td>\n",
              "      <td>C1420196421</td>\n",
              "      <td>2806.00</td>\n",
              "      <td>0.0</td>\n",
              "      <td>C972765878</td>\n",
              "      <td>0.00</td>\n",
              "      <td>0.00</td>\n",
              "      <td>1</td>\n",
              "      <td>0</td>\n",
              "    </tr>\n",
              "    <tr>\n",
              "      <th>252</th>\n",
              "      <td>1</td>\n",
              "      <td>CASH_OUT</td>\n",
              "      <td>2806.00</td>\n",
              "      <td>C2101527076</td>\n",
              "      <td>2806.00</td>\n",
              "      <td>0.0</td>\n",
              "      <td>C1007251739</td>\n",
              "      <td>26202.00</td>\n",
              "      <td>0.00</td>\n",
              "      <td>1</td>\n",
              "      <td>0</td>\n",
              "    </tr>\n",
              "    <tr>\n",
              "      <th>680</th>\n",
              "      <td>1</td>\n",
              "      <td>TRANSFER</td>\n",
              "      <td>20128.00</td>\n",
              "      <td>C137533655</td>\n",
              "      <td>20128.00</td>\n",
              "      <td>0.0</td>\n",
              "      <td>C1848415041</td>\n",
              "      <td>0.00</td>\n",
              "      <td>0.00</td>\n",
              "      <td>1</td>\n",
              "      <td>0</td>\n",
              "    </tr>\n",
              "    <tr>\n",
              "      <th>...</th>\n",
              "      <td>...</td>\n",
              "      <td>...</td>\n",
              "      <td>...</td>\n",
              "      <td>...</td>\n",
              "      <td>...</td>\n",
              "      <td>...</td>\n",
              "      <td>...</td>\n",
              "      <td>...</td>\n",
              "      <td>...</td>\n",
              "      <td>...</td>\n",
              "      <td>...</td>\n",
              "    </tr>\n",
              "    <tr>\n",
              "      <th>6362615</th>\n",
              "      <td>743</td>\n",
              "      <td>CASH_OUT</td>\n",
              "      <td>339682.13</td>\n",
              "      <td>C786484425</td>\n",
              "      <td>339682.13</td>\n",
              "      <td>0.0</td>\n",
              "      <td>C776919290</td>\n",
              "      <td>0.00</td>\n",
              "      <td>339682.13</td>\n",
              "      <td>1</td>\n",
              "      <td>0</td>\n",
              "    </tr>\n",
              "    <tr>\n",
              "      <th>6362616</th>\n",
              "      <td>743</td>\n",
              "      <td>TRANSFER</td>\n",
              "      <td>6311409.28</td>\n",
              "      <td>C1529008245</td>\n",
              "      <td>6311409.28</td>\n",
              "      <td>0.0</td>\n",
              "      <td>C1881841831</td>\n",
              "      <td>0.00</td>\n",
              "      <td>0.00</td>\n",
              "      <td>1</td>\n",
              "      <td>0</td>\n",
              "    </tr>\n",
              "    <tr>\n",
              "      <th>6362617</th>\n",
              "      <td>743</td>\n",
              "      <td>CASH_OUT</td>\n",
              "      <td>6311409.28</td>\n",
              "      <td>C1162922333</td>\n",
              "      <td>6311409.28</td>\n",
              "      <td>0.0</td>\n",
              "      <td>C1365125890</td>\n",
              "      <td>68488.84</td>\n",
              "      <td>6379898.11</td>\n",
              "      <td>1</td>\n",
              "      <td>0</td>\n",
              "    </tr>\n",
              "    <tr>\n",
              "      <th>6362618</th>\n",
              "      <td>743</td>\n",
              "      <td>TRANSFER</td>\n",
              "      <td>850002.52</td>\n",
              "      <td>C1685995037</td>\n",
              "      <td>850002.52</td>\n",
              "      <td>0.0</td>\n",
              "      <td>C2080388513</td>\n",
              "      <td>0.00</td>\n",
              "      <td>0.00</td>\n",
              "      <td>1</td>\n",
              "      <td>0</td>\n",
              "    </tr>\n",
              "    <tr>\n",
              "      <th>6362619</th>\n",
              "      <td>743</td>\n",
              "      <td>CASH_OUT</td>\n",
              "      <td>850002.52</td>\n",
              "      <td>C1280323807</td>\n",
              "      <td>850002.52</td>\n",
              "      <td>0.0</td>\n",
              "      <td>C873221189</td>\n",
              "      <td>6510099.11</td>\n",
              "      <td>7360101.63</td>\n",
              "      <td>1</td>\n",
              "      <td>0</td>\n",
              "    </tr>\n",
              "  </tbody>\n",
              "</table>\n",
              "<p>8213 rows × 11 columns</p>\n",
              "</div>"
            ],
            "text/plain": [
              "         step      type      amount     nameOrig  oldbalanceOrg  \\\n",
              "2           1  TRANSFER      181.00  C1305486145         181.00   \n",
              "3           1  CASH_OUT      181.00   C840083671         181.00   \n",
              "251         1  TRANSFER     2806.00  C1420196421        2806.00   \n",
              "252         1  CASH_OUT     2806.00  C2101527076        2806.00   \n",
              "680         1  TRANSFER    20128.00   C137533655       20128.00   \n",
              "...       ...       ...         ...          ...            ...   \n",
              "6362615   743  CASH_OUT   339682.13   C786484425      339682.13   \n",
              "6362616   743  TRANSFER  6311409.28  C1529008245     6311409.28   \n",
              "6362617   743  CASH_OUT  6311409.28  C1162922333     6311409.28   \n",
              "6362618   743  TRANSFER   850002.52  C1685995037      850002.52   \n",
              "6362619   743  CASH_OUT   850002.52  C1280323807      850002.52   \n",
              "\n",
              "         newbalanceOrig     nameDest  oldbalanceDest  newbalanceDest  isFraud  \\\n",
              "2                   0.0   C553264065            0.00            0.00        1   \n",
              "3                   0.0    C38997010        21182.00            0.00        1   \n",
              "251                 0.0   C972765878            0.00            0.00        1   \n",
              "252                 0.0  C1007251739        26202.00            0.00        1   \n",
              "680                 0.0  C1848415041            0.00            0.00        1   \n",
              "...                 ...          ...             ...             ...      ...   \n",
              "6362615             0.0   C776919290            0.00       339682.13        1   \n",
              "6362616             0.0  C1881841831            0.00            0.00        1   \n",
              "6362617             0.0  C1365125890        68488.84      6379898.11        1   \n",
              "6362618             0.0  C2080388513            0.00            0.00        1   \n",
              "6362619             0.0   C873221189      6510099.11      7360101.63        1   \n",
              "\n",
              "         isFlaggedFraud  \n",
              "2                     0  \n",
              "3                     0  \n",
              "251                   0  \n",
              "252                   0  \n",
              "680                   0  \n",
              "...                 ...  \n",
              "6362615               0  \n",
              "6362616               0  \n",
              "6362617               0  \n",
              "6362618               0  \n",
              "6362619               0  \n",
              "\n",
              "[8213 rows x 11 columns]"
            ]
          },
          "execution_count": 17,
          "metadata": {},
          "output_type": "execute_result"
        }
      ],
      "source": [
        "f_df = df[(df['isFraud'] == 1)]\n",
        "f_df\n"
      ]
    },
    {
      "cell_type": "code",
      "execution_count": null,
      "id": "cf036e21",
      "metadata": {
        "execution": {
          "iopub.execute_input": "2021-10-17T13:58:40.920499Z",
          "iopub.status.busy": "2021-10-17T13:58:40.919725Z",
          "iopub.status.idle": "2021-10-17T13:58:41.512554Z",
          "shell.execute_reply": "2021-10-17T13:58:41.513084Z",
          "shell.execute_reply.started": "2021-10-17T13:36:11.747708Z"
        },
        "papermill": {
          "duration": 0.687709,
          "end_time": "2021-10-17T13:58:41.513336",
          "exception": false,
          "start_time": "2021-10-17T13:58:40.825627",
          "status": "completed"
        },
        "tags": [],
        "id": "cf036e21"
      },
      "outputs": [],
      "source": [
        "#Fraud and non fraud distribution\n",
        "fraud = df[df[\"isFraud\"] == 1]\n",
        "valid = df[df[\"isFraud\"] == 0]"
      ]
    },
    {
      "cell_type": "code",
      "execution_count": null,
      "id": "45de7122",
      "metadata": {
        "execution": {
          "iopub.execute_input": "2021-10-17T13:58:41.892466Z",
          "iopub.status.busy": "2021-10-17T13:58:41.891720Z",
          "iopub.status.idle": "2021-10-17T13:58:42.483351Z",
          "shell.execute_reply": "2021-10-17T13:58:42.481894Z",
          "shell.execute_reply.started": "2021-10-17T13:36:12.247393Z"
        },
        "papermill": {
          "duration": 0.680727,
          "end_time": "2021-10-17T13:58:42.483545",
          "exception": false,
          "start_time": "2021-10-17T13:58:41.802818",
          "status": "completed"
        },
        "tags": [],
        "id": "45de7122",
        "outputId": "c032fd32-719d-49fc-e0ba-fa2eb349c3c9"
      },
      "outputs": [
        {
          "data": {
            "image/png": "[encoded data removed]",
            "text/plain": [
              "<Figure size 576x432 with 1 Axes>"
            ]
          },
          "metadata": {},
          "output_type": "display_data"
        }
      ],
      "source": [
        "ax = df.groupby(['isFlaggedFraud','isFraud']).size().plot(kind='bar',figsize=(8, 6), color='green')\n",
        "ax.set_title(\" Comparison between Fraud and Flagged Fraud transactions\")\n",
        "ax.set_xlabel(\"(isFlaggedFraud, isFraud)\")\n",
        "ax.set_ylabel(\"Count of transaction\")\n",
        "plt.ticklabel_format(style='plain', axis='y')\n",
        "for p in ax.patches:\n",
        "    ax.annotate(str(format(int(p.get_height()), ',d')), (p.get_x(), p.get_height()))"
      ]
    },
    {
      "cell_type": "code",
      "execution_count": null,
      "id": "002a7016",
      "metadata": {
        "execution": {
          "iopub.execute_input": "2021-10-17T13:58:43.260963Z",
          "iopub.status.busy": "2021-10-17T13:58:42.833666Z",
          "iopub.status.idle": "2021-10-17T13:58:44.072871Z",
          "shell.execute_reply": "2021-10-17T13:58:44.073394Z",
          "shell.execute_reply.started": "2021-10-17T13:36:12.809385Z"
        },
        "papermill": {
          "duration": 1.329363,
          "end_time": "2021-10-17T13:58:44.073613",
          "exception": false,
          "start_time": "2021-10-17T13:58:42.744250",
          "status": "completed"
        },
        "tags": [],
        "id": "002a7016",
        "outputId": "d15be044-2585-4bfc-fca1-09c8ba28abf8"
      },
      "outputs": [
        {
          "data": {
            "image/png": "[encoded data removed]",
            "text/plain": [
              "<Figure size 576x432 with 1 Axes>"
            ]
          },
          "metadata": {},
          "output_type": "display_data"
        }
      ],
      "source": [
        "ax = df.groupby(['type', 'isFraud']).size().plot(kind='bar',figsize=(8, 6), color='purple')\n",
        "ax.set_title(\" Transaction which are the actual fraud per transaction type\")\n",
        "ax.set_xlabel(\"(Type, isFraud)\")\n",
        "ax.set_ylabel(\"Count of transaction\")\n",
        "plt.ticklabel_format(style='plain', axis='y')\n",
        "for p in ax.patches:\n",
        "    ax.annotate(str(format(int(p.get_height()), ',d')), (p.get_x(), p.get_height()))\n"
      ]
    },
    {
      "cell_type": "code",
      "execution_count": null,
      "id": "92ae3f73",
      "metadata": {
        "execution": {
          "iopub.execute_input": "2021-10-17T13:58:44.255498Z",
          "iopub.status.busy": "2021-10-17T13:58:44.251883Z",
          "iopub.status.idle": "2021-10-17T13:58:44.477593Z",
          "shell.execute_reply": "2021-10-17T13:58:44.478056Z",
          "shell.execute_reply.started": "2021-10-17T13:36:14.001972Z"
        },
        "papermill": {
          "duration": 0.317358,
          "end_time": "2021-10-17T13:58:44.478285",
          "exception": false,
          "start_time": "2021-10-17T13:58:44.160927",
          "status": "completed"
        },
        "tags": [],
        "id": "92ae3f73",
        "outputId": "ac813eca-cd76-4e73-8dab-3895dcd75a76"
      },
      "outputs": [
        {
          "name": "stderr",
          "output_type": "stream",
          "text": [
            "/opt/conda/lib/python3.7/site-packages/seaborn/_decorators.py:43: FutureWarning: Pass the following variable as a keyword arg: x. From version 0.12, the only valid positional argument will be `data`, and passing other arguments without an explicit keyword will result in an error or misinterpretation.\n",
            "  FutureWarning\n"
          ]
        },
        {
          "data": {
            "image/png": "[encoded data removed]",
            "text/plain": [
              "<Figure size 432x288 with 1 Axes>"
            ]
          },
          "metadata": {},
          "output_type": "display_data"
        }
      ],
      "source": [
        "ax=sns.countplot('type', data=f_df)\n",
        "plt.title('Fraud Distribution', fontsize=14)\n",
        "for p in ax.patches:\n",
        "    ax.annotate(str(format(int(p.get_height()), ',d')), (p.get_x(), p.get_height()))\n",
        "\n",
        "plt.show()"
      ]
    },
    {
      "cell_type": "code",
      "execution_count": null,
      "id": "8bfd2547",
      "metadata": {
        "execution": {
          "iopub.execute_input": "2021-10-17T13:58:44.837572Z",
          "iopub.status.busy": "2021-10-17T13:58:44.836518Z",
          "iopub.status.idle": "2021-10-17T13:58:46.079771Z",
          "shell.execute_reply": "2021-10-17T13:58:46.079249Z",
          "shell.execute_reply.started": "2021-10-17T13:36:14.174441Z"
        },
        "papermill": {
          "duration": 1.336007,
          "end_time": "2021-10-17T13:58:46.079935",
          "exception": false,
          "start_time": "2021-10-17T13:58:44.743928",
          "status": "completed"
        },
        "tags": [],
        "id": "8bfd2547",
        "outputId": "d188e60c-dc1d-438c-f68d-754bef49e10d"
      },
      "outputs": [
        {
          "data": {
            "image/png": "[encoded data removed]",
            "text/plain": [
              "<Figure size 576x432 with 1 Axes>"
            ]
          },
          "metadata": {},
          "output_type": "display_data"
        }
      ],
      "source": [
        "ax = df.groupby(['type', 'isFlaggedFraud']).size().plot(kind='bar',figsize=(8, 6), color='pink')\n",
        "ax.set_title(\"Transaction which are flagged as fraud per transaction type\")\n",
        "ax.set_xlabel(\"(Type, isFlaggedFraud)\")\n",
        "ax.set_ylabel(\"Count of transaction\")\n",
        "for p in ax.patches:\n",
        "    ax.annotate(str(format(int(p.get_height()), ',d')), (p.get_x(), p.get_height()*1.01))"
      ]
    },
    {
      "cell_type": "code",
      "execution_count": null,
      "id": "0a684009",
      "metadata": {
        "execution": {
          "iopub.execute_input": "2021-10-17T13:58:46.969361Z",
          "iopub.status.busy": "2021-10-17T13:58:46.968371Z",
          "iopub.status.idle": "2021-10-17T13:58:53.661140Z",
          "shell.execute_reply": "2021-10-17T13:58:53.661893Z",
          "shell.execute_reply.started": "2021-10-17T13:36:15.353010Z"
        },
        "papermill": {
          "duration": 6.78663,
          "end_time": "2021-10-17T13:58:53.662194",
          "exception": false,
          "start_time": "2021-10-17T13:58:46.875564",
          "status": "completed"
        },
        "tags": [],
        "id": "0a684009",
        "outputId": "a3b55995-4c76-4954-a890-d986aeb14b4c"
      },
      "outputs": [
        {
          "name": "stdout",
          "output_type": "stream",
          "text": [
            "All Transactions  6362620\n",
            "Unique Transactions  6353307\n",
            "Transactions from existing accounts  9313\n"
          ]
        }
      ],
      "source": [
        "print('All Transactions ',df['nameOrig'].size)\n",
        "print('Unique Transactions ',df['nameOrig'].unique().size)\n",
        "print('Transactions from existing accounts ',df['nameOrig'].size-df['nameOrig'].unique().size)\n"
      ]
    },
    {
      "cell_type": "code",
      "execution_count": null,
      "id": "98acf36a",
      "metadata": {
        "execution": {
          "iopub.execute_input": "2021-10-17T13:58:54.349383Z",
          "iopub.status.busy": "2021-10-17T13:58:54.348386Z",
          "iopub.status.idle": "2021-10-17T13:58:59.518167Z",
          "shell.execute_reply": "2021-10-17T13:58:59.518658Z",
          "shell.execute_reply.started": "2021-10-17T13:36:21.911983Z"
        },
        "papermill": {
          "duration": 5.765198,
          "end_time": "2021-10-17T13:58:59.518887",
          "exception": false,
          "start_time": "2021-10-17T13:58:53.753689",
          "status": "completed"
        },
        "tags": [],
        "id": "98acf36a",
        "outputId": "7928060c-a635-4859-db90-d8f6a2f1cac1"
      },
      "outputs": [
        {
          "name": "stdout",
          "output_type": "stream",
          "text": [
            "All Transactions  6362620\n",
            "Unique Transactions  2722362\n",
            "Transactions from existing accounts  9313\n"
          ]
        }
      ],
      "source": [
        "print('All Transactions ',df['nameDest'].size)\n",
        "print('Unique Transactions ',df['nameDest'].unique().size)\n",
        "print('Transactions from existing accounts ',df['nameDest'].size-df['nameOrig'].unique().size)\n"
      ]
    },
    {
      "cell_type": "code",
      "execution_count": null,
      "id": "b2776520",
      "metadata": {
        "execution": {
          "iopub.execute_input": "2021-10-17T13:59:00.724510Z",
          "iopub.status.busy": "2021-10-17T13:59:00.723779Z",
          "iopub.status.idle": "2021-10-17T13:59:01.904554Z",
          "shell.execute_reply": "2021-10-17T13:59:01.903684Z",
          "shell.execute_reply.started": "2021-10-17T13:36:27.632056Z"
        },
        "papermill": {
          "duration": 2.288938,
          "end_time": "2021-10-17T13:59:01.904772",
          "exception": false,
          "start_time": "2021-10-17T13:58:59.615834",
          "status": "completed"
        },
        "tags": [],
        "id": "b2776520",
        "outputId": "78469058-a918-4383-da7f-1efd5c7824d5"
      },
      "outputs": [
        {
          "name": "stdout",
          "output_type": "stream",
          "text": [
            "\n",
            "Are there any merchants among originator accounts for CASH_IN transactions? False\n"
          ]
        }
      ],
      "source": [
        "print('\\nAre there any merchants among originator accounts for CASH_IN \\\n",
        "transactions? {}'.format(\\\n",
        "(df.loc[df.type == 'CASH_IN'].nameOrig.str.contains('M')).any()))"
      ]
    },
    {
      "cell_type": "code",
      "execution_count": null,
      "id": "81f1f35e",
      "metadata": {
        "execution": {
          "iopub.execute_input": "2021-10-17T13:59:03.084191Z",
          "iopub.status.busy": "2021-10-17T13:59:03.082825Z",
          "iopub.status.idle": "2021-10-17T13:59:04.931095Z",
          "shell.execute_reply": "2021-10-17T13:59:04.931823Z",
          "shell.execute_reply.started": "2021-10-17T13:36:29.796728Z"
        },
        "papermill": {
          "duration": 2.933704,
          "end_time": "2021-10-17T13:59:04.932019",
          "exception": false,
          "start_time": "2021-10-17T13:59:01.998315",
          "status": "completed"
        },
        "tags": [],
        "id": "81f1f35e",
        "outputId": "7b4be632-7e18-4f45-c72b-fbda54a909fa"
      },
      "outputs": [
        {
          "name": "stdout",
          "output_type": "stream",
          "text": [
            "\n",
            "Are there any merchants among destination accounts for CASH_OUT transactions? False\n"
          ]
        }
      ],
      "source": [
        "print('\\nAre there any merchants among destination accounts for CASH_OUT \\\n",
        "transactions? {}'.format(\\\n",
        "(df.loc[df.type == 'CASH_OUT'].nameDest.str.contains('M')).any()))"
      ]
    },
    {
      "cell_type": "code",
      "execution_count": null,
      "id": "536f5e80",
      "metadata": {
        "execution": {
          "iopub.execute_input": "2021-10-17T13:59:05.888661Z",
          "iopub.status.busy": "2021-10-17T13:59:05.887783Z",
          "iopub.status.idle": "2021-10-17T13:59:14.333110Z",
          "shell.execute_reply": "2021-10-17T13:59:14.332201Z",
          "shell.execute_reply.started": "2021-10-17T13:36:32.648055Z"
        },
        "papermill": {
          "duration": 9.28649,
          "end_time": "2021-10-17T13:59:14.333328",
          "exception": false,
          "start_time": "2021-10-17T13:59:05.046838",
          "status": "completed"
        },
        "tags": [],
        "id": "536f5e80",
        "outputId": "7baefaf6-0fa3-4df6-8c6c-bd4ebd7adea2"
      },
      "outputs": [
        {
          "name": "stdout",
          "output_type": "stream",
          "text": [
            "\n",
            "Are there merchants among any originator accounts? False\n",
            "\n",
            "Are there any transactions having merchants among destination accounts other than the PAYMENT type? False\n"
          ]
        }
      ],
      "source": [
        "print('\\nAre there merchants among any originator accounts? {}'.format(\\\n",
        "      df.nameOrig.str.contains('M').any()))\n",
        "\n",
        "print('\\nAre there any transactions having merchants among destination accounts\\\n",
        " other than the PAYMENT type? {}'.format(\\\n",
        "(df.loc[df.nameDest.str.contains('M')].type != 'PAYMENT').any()))"
      ]
    },
    {
      "cell_type": "code",
      "execution_count": null,
      "id": "4adce625",
      "metadata": {
        "execution": {
          "iopub.execute_input": "2021-10-17T13:59:15.581058Z",
          "iopub.status.busy": "2021-10-17T13:59:15.352220Z",
          "iopub.status.idle": "2021-10-17T13:59:15.583957Z",
          "shell.execute_reply": "2021-10-17T13:59:15.583393Z",
          "shell.execute_reply.started": "2021-10-17T13:36:41.840912Z"
        },
        "papermill": {
          "duration": 0.388181,
          "end_time": "2021-10-17T13:59:15.584143",
          "exception": false,
          "start_time": "2021-10-17T13:59:15.195962",
          "status": "completed"
        },
        "tags": [],
        "id": "4adce625"
      },
      "outputs": [],
      "source": [
        "# Eliminate columns shown to be irrelevant for analysis in the EDA\n",
        "df = df.drop(['nameOrig', 'nameDest', 'isFlaggedFraud'], axis = 1)\n"
      ]
    },
    {
      "cell_type": "code",
      "execution_count": null,
      "id": "d7c97e76",
      "metadata": {
        "execution": {
          "iopub.execute_input": "2021-10-17T13:59:15.786989Z",
          "iopub.status.busy": "2021-10-17T13:59:15.786262Z",
          "iopub.status.idle": "2021-10-17T13:59:15.789171Z",
          "shell.execute_reply": "2021-10-17T13:59:15.789693Z",
          "shell.execute_reply.started": "2021-10-17T13:36:42.029529Z"
        },
        "papermill": {
          "duration": 0.112365,
          "end_time": "2021-10-17T13:59:15.789899",
          "exception": false,
          "start_time": "2021-10-17T13:59:15.677534",
          "status": "completed"
        },
        "tags": [],
        "id": "d7c97e76",
        "outputId": "c0ee2202-a431-4083-ca2f-abddf416d547"
      },
      "outputs": [
        {
          "data": {
            "text/html": [
              "<div>\n",
              "<style scoped>\n",
              "    .dataframe tbody tr th:only-of-type {\n",
              "        vertical-align: middle;\n",
              "    }\n",
              "\n",
              "    .dataframe tbody tr th {\n",
              "        vertical-align: top;\n",
              "    }\n",
              "\n",
              "    .dataframe thead th {\n",
              "        text-align: right;\n",
              "    }\n",
              "</style>\n",
              "<table border=\"1\" class=\"dataframe\">\n",
              "  <thead>\n",
              "    <tr style=\"text-align: right;\">\n",
              "      <th></th>\n",
              "      <th>step</th>\n",
              "      <th>type</th>\n",
              "      <th>amount</th>\n",
              "      <th>oldbalanceOrg</th>\n",
              "      <th>newbalanceOrig</th>\n",
              "      <th>oldbalanceDest</th>\n",
              "      <th>newbalanceDest</th>\n",
              "      <th>isFraud</th>\n",
              "    </tr>\n",
              "  </thead>\n",
              "  <tbody>\n",
              "    <tr>\n",
              "      <th>0</th>\n",
              "      <td>1</td>\n",
              "      <td>PAYMENT</td>\n",
              "      <td>9839.64</td>\n",
              "      <td>170136.0</td>\n",
              "      <td>160296.36</td>\n",
              "      <td>0.0</td>\n",
              "      <td>0.0</td>\n",
              "      <td>0</td>\n",
              "    </tr>\n",
              "    <tr>\n",
              "      <th>1</th>\n",
              "      <td>1</td>\n",
              "      <td>PAYMENT</td>\n",
              "      <td>1864.28</td>\n",
              "      <td>21249.0</td>\n",
              "      <td>19384.72</td>\n",
              "      <td>0.0</td>\n",
              "      <td>0.0</td>\n",
              "      <td>0</td>\n",
              "    </tr>\n",
              "    <tr>\n",
              "      <th>2</th>\n",
              "      <td>1</td>\n",
              "      <td>TRANSFER</td>\n",
              "      <td>181.00</td>\n",
              "      <td>181.0</td>\n",
              "      <td>0.00</td>\n",
              "      <td>0.0</td>\n",
              "      <td>0.0</td>\n",
              "      <td>1</td>\n",
              "    </tr>\n",
              "    <tr>\n",
              "      <th>3</th>\n",
              "      <td>1</td>\n",
              "      <td>CASH_OUT</td>\n",
              "      <td>181.00</td>\n",
              "      <td>181.0</td>\n",
              "      <td>0.00</td>\n",
              "      <td>21182.0</td>\n",
              "      <td>0.0</td>\n",
              "      <td>1</td>\n",
              "    </tr>\n",
              "    <tr>\n",
              "      <th>4</th>\n",
              "      <td>1</td>\n",
              "      <td>PAYMENT</td>\n",
              "      <td>11668.14</td>\n",
              "      <td>41554.0</td>\n",
              "      <td>29885.86</td>\n",
              "      <td>0.0</td>\n",
              "      <td>0.0</td>\n",
              "      <td>0</td>\n",
              "    </tr>\n",
              "  </tbody>\n",
              "</table>\n",
              "</div>"
            ],
            "text/plain": [
              "   step      type    amount  oldbalanceOrg  newbalanceOrig  oldbalanceDest  \\\n",
              "0     1   PAYMENT   9839.64       170136.0       160296.36             0.0   \n",
              "1     1   PAYMENT   1864.28        21249.0        19384.72             0.0   \n",
              "2     1  TRANSFER    181.00          181.0            0.00             0.0   \n",
              "3     1  CASH_OUT    181.00          181.0            0.00         21182.0   \n",
              "4     1   PAYMENT  11668.14        41554.0        29885.86             0.0   \n",
              "\n",
              "   newbalanceDest  isFraud  \n",
              "0             0.0        0  \n",
              "1             0.0        0  \n",
              "2             0.0        1  \n",
              "3             0.0        1  \n",
              "4             0.0        0  "
            ]
          },
          "execution_count": 29,
          "metadata": {},
          "output_type": "execute_result"
        }
      ],
      "source": [
        "df.head()"
      ]
    },
    {
      "cell_type": "code",
      "execution_count": null,
      "id": "f9581d05",
      "metadata": {
        "execution": {
          "iopub.execute_input": "2021-10-17T13:59:15.985367Z",
          "iopub.status.busy": "2021-10-17T13:59:15.984664Z",
          "iopub.status.idle": "2021-10-17T13:59:18.175665Z",
          "shell.execute_reply": "2021-10-17T13:59:18.176249Z",
          "shell.execute_reply.started": "2021-10-17T13:36:42.046635Z"
        },
        "papermill": {
          "duration": 2.29122,
          "end_time": "2021-10-17T13:59:18.176467",
          "exception": false,
          "start_time": "2021-10-17T13:59:15.885247",
          "status": "completed"
        },
        "tags": [],
        "id": "f9581d05",
        "outputId": "deb6d12e-6ebe-45e4-815b-0607f2ef3729"
      },
      "outputs": [
        {
          "data": {
            "text/html": [
              "<div>\n",
              "<style scoped>\n",
              "    .dataframe tbody tr th:only-of-type {\n",
              "        vertical-align: middle;\n",
              "    }\n",
              "\n",
              "    .dataframe tbody tr th {\n",
              "        vertical-align: top;\n",
              "    }\n",
              "\n",
              "    .dataframe thead th {\n",
              "        text-align: right;\n",
              "    }\n",
              "</style>\n",
              "<table border=\"1\" class=\"dataframe\">\n",
              "  <thead>\n",
              "    <tr style=\"text-align: right;\">\n",
              "      <th></th>\n",
              "      <th>step</th>\n",
              "      <th>type</th>\n",
              "      <th>amount</th>\n",
              "      <th>oldbalanceOrg</th>\n",
              "      <th>newbalanceOrig</th>\n",
              "      <th>oldbalanceDest</th>\n",
              "      <th>newbalanceDest</th>\n",
              "      <th>isFraud</th>\n",
              "    </tr>\n",
              "  </thead>\n",
              "  <tbody>\n",
              "    <tr>\n",
              "      <th>2</th>\n",
              "      <td>1</td>\n",
              "      <td>TRANSFER</td>\n",
              "      <td>181.00</td>\n",
              "      <td>181.00</td>\n",
              "      <td>0.0</td>\n",
              "      <td>0.00</td>\n",
              "      <td>0.00</td>\n",
              "      <td>1</td>\n",
              "    </tr>\n",
              "    <tr>\n",
              "      <th>3</th>\n",
              "      <td>1</td>\n",
              "      <td>CASH_OUT</td>\n",
              "      <td>181.00</td>\n",
              "      <td>181.00</td>\n",
              "      <td>0.0</td>\n",
              "      <td>21182.00</td>\n",
              "      <td>0.00</td>\n",
              "      <td>1</td>\n",
              "    </tr>\n",
              "    <tr>\n",
              "      <th>15</th>\n",
              "      <td>1</td>\n",
              "      <td>CASH_OUT</td>\n",
              "      <td>229133.94</td>\n",
              "      <td>15325.00</td>\n",
              "      <td>0.0</td>\n",
              "      <td>5083.00</td>\n",
              "      <td>51513.44</td>\n",
              "      <td>0</td>\n",
              "    </tr>\n",
              "    <tr>\n",
              "      <th>19</th>\n",
              "      <td>1</td>\n",
              "      <td>TRANSFER</td>\n",
              "      <td>215310.30</td>\n",
              "      <td>705.00</td>\n",
              "      <td>0.0</td>\n",
              "      <td>22425.00</td>\n",
              "      <td>0.00</td>\n",
              "      <td>0</td>\n",
              "    </tr>\n",
              "    <tr>\n",
              "      <th>24</th>\n",
              "      <td>1</td>\n",
              "      <td>TRANSFER</td>\n",
              "      <td>311685.89</td>\n",
              "      <td>10835.00</td>\n",
              "      <td>0.0</td>\n",
              "      <td>6267.00</td>\n",
              "      <td>2719172.89</td>\n",
              "      <td>0</td>\n",
              "    </tr>\n",
              "    <tr>\n",
              "      <th>...</th>\n",
              "      <td>...</td>\n",
              "      <td>...</td>\n",
              "      <td>...</td>\n",
              "      <td>...</td>\n",
              "      <td>...</td>\n",
              "      <td>...</td>\n",
              "      <td>...</td>\n",
              "      <td>...</td>\n",
              "    </tr>\n",
              "    <tr>\n",
              "      <th>6362615</th>\n",
              "      <td>743</td>\n",
              "      <td>CASH_OUT</td>\n",
              "      <td>339682.13</td>\n",
              "      <td>339682.13</td>\n",
              "      <td>0.0</td>\n",
              "      <td>0.00</td>\n",
              "      <td>339682.13</td>\n",
              "      <td>1</td>\n",
              "    </tr>\n",
              "    <tr>\n",
              "      <th>6362616</th>\n",
              "      <td>743</td>\n",
              "      <td>TRANSFER</td>\n",
              "      <td>6311409.28</td>\n",
              "      <td>6311409.28</td>\n",
              "      <td>0.0</td>\n",
              "      <td>0.00</td>\n",
              "      <td>0.00</td>\n",
              "      <td>1</td>\n",
              "    </tr>\n",
              "    <tr>\n",
              "      <th>6362617</th>\n",
              "      <td>743</td>\n",
              "      <td>CASH_OUT</td>\n",
              "      <td>6311409.28</td>\n",
              "      <td>6311409.28</td>\n",
              "      <td>0.0</td>\n",
              "      <td>68488.84</td>\n",
              "      <td>6379898.11</td>\n",
              "      <td>1</td>\n",
              "    </tr>\n",
              "    <tr>\n",
              "      <th>6362618</th>\n",
              "      <td>743</td>\n",
              "      <td>TRANSFER</td>\n",
              "      <td>850002.52</td>\n",
              "      <td>850002.52</td>\n",
              "      <td>0.0</td>\n",
              "      <td>0.00</td>\n",
              "      <td>0.00</td>\n",
              "      <td>1</td>\n",
              "    </tr>\n",
              "    <tr>\n",
              "      <th>6362619</th>\n",
              "      <td>743</td>\n",
              "      <td>CASH_OUT</td>\n",
              "      <td>850002.52</td>\n",
              "      <td>850002.52</td>\n",
              "      <td>0.0</td>\n",
              "      <td>6510099.11</td>\n",
              "      <td>7360101.63</td>\n",
              "      <td>1</td>\n",
              "    </tr>\n",
              "  </tbody>\n",
              "</table>\n",
              "<p>2770409 rows × 8 columns</p>\n",
              "</div>"
            ],
            "text/plain": [
              "         step      type      amount  oldbalanceOrg  newbalanceOrig  \\\n",
              "2           1  TRANSFER      181.00         181.00             0.0   \n",
              "3           1  CASH_OUT      181.00         181.00             0.0   \n",
              "15          1  CASH_OUT   229133.94       15325.00             0.0   \n",
              "19          1  TRANSFER   215310.30         705.00             0.0   \n",
              "24          1  TRANSFER   311685.89       10835.00             0.0   \n",
              "...       ...       ...         ...            ...             ...   \n",
              "6362615   743  CASH_OUT   339682.13      339682.13             0.0   \n",
              "6362616   743  TRANSFER  6311409.28     6311409.28             0.0   \n",
              "6362617   743  CASH_OUT  6311409.28     6311409.28             0.0   \n",
              "6362618   743  TRANSFER   850002.52      850002.52             0.0   \n",
              "6362619   743  CASH_OUT   850002.52      850002.52             0.0   \n",
              "\n",
              "         oldbalanceDest  newbalanceDest  isFraud  \n",
              "2                  0.00            0.00        1  \n",
              "3              21182.00            0.00        1  \n",
              "15              5083.00        51513.44        0  \n",
              "19             22425.00            0.00        0  \n",
              "24              6267.00      2719172.89        0  \n",
              "...                 ...             ...      ...  \n",
              "6362615            0.00       339682.13        1  \n",
              "6362616            0.00            0.00        1  \n",
              "6362617        68488.84      6379898.11        1  \n",
              "6362618            0.00            0.00        1  \n",
              "6362619      6510099.11      7360101.63        1  \n",
              "\n",
              "[2770409 rows x 8 columns]"
            ]
          },
          "execution_count": 30,
          "metadata": {},
          "output_type": "execute_result"
        }
      ],
      "source": [
        "df_new = df.loc[(df.type == 'TRANSFER') | (df.type == 'CASH_OUT')]\n",
        "\n",
        "randomState = 5\n",
        "np.random.seed(randomState)\n",
        "df_new"
      ]
    },
    {
      "cell_type": "code",
      "execution_count": null,
      "id": "2f6e012c",
      "metadata": {
        "execution": {
          "iopub.execute_input": "2021-10-17T13:59:18.743143Z",
          "iopub.status.busy": "2021-10-17T13:59:18.742447Z",
          "iopub.status.idle": "2021-10-17T13:59:20.690791Z",
          "shell.execute_reply": "2021-10-17T13:59:20.690167Z",
          "shell.execute_reply.started": "2021-10-17T13:36:44.325274Z"
        },
        "papermill": {
          "duration": 2.045386,
          "end_time": "2021-10-17T13:59:20.690996",
          "exception": false,
          "start_time": "2021-10-17T13:59:18.645610",
          "status": "completed"
        },
        "tags": [],
        "id": "2f6e012c",
        "outputId": "97c8ee09-d33b-4e96-da23-271c863e9aff"
      },
      "outputs": [
        {
          "name": "stdout",
          "output_type": "stream",
          "text": [
            "Percentage of observations with balance errors in the account giving money:  85.0\n",
            "Percentage of observations with balance errors in the account receiving money:  100.0\n"
          ]
        }
      ],
      "source": [
        "wrong_orig_bal = sum(df[\"oldbalanceOrg\"] - df[\"amount\"] != df[\"newbalanceOrig\"])\n",
        "wrong_dest_bal = sum(df[\"newbalanceDest\"] + df[\"amount\"] != df[\"newbalanceDest\"])\n",
        "print(\"Percentage of observations with balance errors in the account giving money: \", 100*round(wrong_orig_bal/len(df),2))\n",
        "print(\"Percentage of observations with balance errors in the account receiving money: \", 100*round(wrong_dest_bal/len(df),2))"
      ]
    },
    {
      "cell_type": "code",
      "execution_count": null,
      "id": "7516c934",
      "metadata": {
        "execution": {
          "iopub.execute_input": "2021-10-17T13:59:21.054757Z",
          "iopub.status.busy": "2021-10-17T13:59:21.053404Z",
          "iopub.status.idle": "2021-10-17T14:01:52.038582Z",
          "shell.execute_reply": "2021-10-17T14:01:52.039160Z",
          "shell.execute_reply.started": "2021-10-17T13:36:46.258033Z"
        },
        "papermill": {
          "duration": 151.253398,
          "end_time": "2021-10-17T14:01:52.039374",
          "exception": false,
          "start_time": "2021-10-17T13:59:20.785976",
          "status": "completed"
        },
        "tags": [],
        "id": "7516c934",
        "outputId": "556bab76-dddd-4012-f11e-79bada8c6a47"
      },
      "outputs": [
        {
          "name": "stdout",
          "output_type": "stream",
          "text": [
            "number of observations with negative numbers:  0\n",
            "number of observations where the amount given is greater than the amount that is in the sender's account:  4079080\n",
            "number of observations where the amount received is greater than the amount that is in the receiver's account:  2661141\n"
          ]
        }
      ],
      "source": [
        "# flatten the subsetted dataframe of floats into an array of floats\n",
        "relevant_cols = df[[\"amount\",\"oldbalanceOrg\",\"newbalanceOrig\",\"oldbalanceDest\",\"newbalanceDest\"]].values.flatten()\n",
        "# number of observations with negative numbers\n",
        "num_neg_amt = sum(n < 0 for n in relevant_cols)\n",
        "# number of observations where the amount given is greater than the amount that is in the sender's account\n",
        "num_amt_oldgiver = sum(df[\"amount\"] > df[\"oldbalanceOrg\"])\n",
        "# number of observations where the amount received is greater than the amount that is in the receiver's account\n",
        "num_amt_newreceiver = sum(df[\"amount\"] > df[\"newbalanceDest\"])\n",
        "\n",
        "print(\"number of observations with negative numbers: \", num_neg_amt)\n",
        "print(\"number of observations where the amount given is greater than the amount that is in the sender's account: \"\n",
        "      , num_amt_oldgiver)\n",
        "print(\"number of observations where the amount received is greater than the amount that is in the receiver's account: \"\n",
        "      , num_amt_newreceiver)"
      ]
    },
    {
      "cell_type": "code",
      "execution_count": null,
      "id": "77086376",
      "metadata": {
        "execution": {
          "iopub.execute_input": "2021-10-17T14:01:52.417965Z",
          "iopub.status.busy": "2021-10-17T14:01:52.416985Z",
          "iopub.status.idle": "2021-10-17T14:01:52.461043Z",
          "shell.execute_reply": "2021-10-17T14:01:52.460420Z",
          "shell.execute_reply.started": "2021-10-17T13:39:17.447236Z"
        },
        "papermill": {
          "duration": 0.140476,
          "end_time": "2021-10-17T14:01:52.461230",
          "exception": false,
          "start_time": "2021-10-17T14:01:52.320754",
          "status": "completed"
        },
        "tags": [],
        "id": "77086376",
        "outputId": "50a09623-e85c-4750-fa89-0fa4b91a8b43"
      },
      "outputs": [
        {
          "name": "stderr",
          "output_type": "stream",
          "text": [
            "/opt/conda/lib/python3.7/site-packages/ipykernel_launcher.py:1: SettingWithCopyWarning: \n",
            "A value is trying to be set on a copy of a slice from a DataFrame.\n",
            "Try using .loc[row_indexer,col_indexer] = value instead\n",
            "\n",
            "See the caveats in the documentation: https://pandas.pydata.org/pandas-docs/stable/user_guide/indexing.html#returning-a-view-versus-a-copy\n",
            "  \"\"\"Entry point for launching an IPython kernel.\n",
            "/opt/conda/lib/python3.7/site-packages/ipykernel_launcher.py:2: SettingWithCopyWarning: \n",
            "A value is trying to be set on a copy of a slice from a DataFrame.\n",
            "Try using .loc[row_indexer,col_indexer] = value instead\n",
            "\n",
            "See the caveats in the documentation: https://pandas.pydata.org/pandas-docs/stable/user_guide/indexing.html#returning-a-view-versus-a-copy\n",
            "  \n"
          ]
        }
      ],
      "source": [
        "df_new[\"errorbalanceOrg\"] = df_new.newbalanceOrig + df_new.amount - df_new.oldbalanceOrg\n",
        "df_new[\"errorbalanceDest\"] = df_new.oldbalanceDest + df_new.amount - df_new.newbalanceDest"
      ]
    },
    {
      "cell_type": "code",
      "execution_count": null,
      "id": "3d5a0dae",
      "metadata": {
        "execution": {
          "iopub.execute_input": "2021-10-17T14:01:52.660889Z",
          "iopub.status.busy": "2021-10-17T14:01:52.659813Z",
          "iopub.status.idle": "2021-10-17T14:01:53.013432Z",
          "shell.execute_reply": "2021-10-17T14:01:53.013919Z",
          "shell.execute_reply.started": "2021-10-17T13:39:17.479247Z"
        },
        "papermill": {
          "duration": 0.456481,
          "end_time": "2021-10-17T14:01:53.014134",
          "exception": false,
          "start_time": "2021-10-17T14:01:52.557653",
          "status": "completed"
        },
        "tags": [],
        "id": "3d5a0dae"
      },
      "outputs": [],
      "source": [
        "# Subsetting data into observations with fraud and valid transactions:\n",
        "fraud = df_new[df_new[\"isFraud\"] == 1]\n",
        "valid = df_new[df_new[\"isFraud\"] == 0]"
      ]
    },
    {
      "cell_type": "code",
      "execution_count": null,
      "id": "6c8dbfae",
      "metadata": {
        "execution": {
          "iopub.execute_input": "2021-10-17T14:01:53.213477Z",
          "iopub.status.busy": "2021-10-17T14:01:53.212476Z",
          "iopub.status.idle": "2021-10-17T14:01:53.458496Z",
          "shell.execute_reply": "2021-10-17T14:01:53.457878Z",
          "shell.execute_reply.started": "2021-10-17T13:39:17.843592Z"
        },
        "papermill": {
          "duration": 0.349622,
          "end_time": "2021-10-17T14:01:53.458663",
          "exception": false,
          "start_time": "2021-10-17T14:01:53.109041",
          "status": "completed"
        },
        "tags": [],
        "id": "6c8dbfae",
        "outputId": "64fe17bc-5928-4a6a-ba47-ad5eedf74520"
      },
      "outputs": [
        {
          "name": "stdout",
          "output_type": "stream",
          "text": [
            "Proportion of fraudulent transactions with errorBalanceDest > 0:  0.5712894192134421\n",
            "Proportion of valid transactions with errorBalanceDest > 0:  0.19744942067832985\n",
            "Proportion of fraudulent transactions with errorBalanceOrg > 0:  0.006331425788384269\n",
            "Proportion of valid transactions with errorBalanceOrg > 0:  0.9067180605576143\n"
          ]
        }
      ],
      "source": [
        "print(\"Proportion of fraudulent transactions with errorBalanceDest > 0: \", len(fraud[fraud.errorbalanceDest > 0])/len(fraud))\n",
        "print(\"Proportion of valid transactions with errorBalanceDest > 0: \", len(valid[valid.errorbalanceDest > 0])/len(valid))\n",
        "print(\"Proportion of fraudulent transactions with errorBalanceOrg > 0: \", len(fraud[fraud.errorbalanceOrg > 0])/len(fraud))\n",
        "print(\"Proportion of valid transactions with errorBalanceOrg > 0: \", len(valid[valid.errorbalanceOrg > 0])/len(valid))"
      ]
    },
    {
      "cell_type": "code",
      "execution_count": null,
      "id": "8bb743ab",
      "metadata": {
        "execution": {
          "iopub.execute_input": "2021-10-17T14:01:54.088260Z",
          "iopub.status.busy": "2021-10-17T14:01:54.062679Z",
          "iopub.status.idle": "2021-10-17T14:01:54.889307Z",
          "shell.execute_reply": "2021-10-17T14:01:54.888227Z",
          "shell.execute_reply.started": "2021-10-17T13:39:18.045845Z"
        },
        "papermill": {
          "duration": 0.94562,
          "end_time": "2021-10-17T14:01:54.889492",
          "exception": false,
          "start_time": "2021-10-17T14:01:53.943872",
          "status": "completed"
        },
        "tags": [],
        "id": "8bb743ab",
        "outputId": "484a1697-e7bd-4197-b533-137ead8052f9"
      },
      "outputs": [
        {
          "data": {
            "image/png": "[encoded data removed]",
            "text/plain": [
              "<Figure size 432x288 with 1 Axes>"
            ]
          },
          "metadata": {},
          "output_type": "display_data"
        },
        {
          "data": {
            "image/png": "[encoded data removed]",
            "text/plain": [
              "<Figure size 432x288 with 1 Axes>"
            ]
          },
          "metadata": {},
          "output_type": "display_data"
        }
      ],
      "source": [
        "# Time patterns\n",
        "\n",
        "bins = 50\n",
        "\n",
        "valid.hist(column=\"step\",color=\"green\",bins=bins)\n",
        "plt.xlabel(\"1 hour time step\")\n",
        "plt.ylabel(\"# of transactions\")\n",
        "plt.title(\"# of valid transactions over time\")\n",
        "\n",
        "fraud.hist(column =\"step\",color=\"red\",bins=bins)\n",
        "plt.xlabel(\"1 hour time step\")\n",
        "plt.ylabel(\"# of transactions\")\n",
        "plt.title(\"# of fraud transactions over time\")\n",
        "\n",
        "plt.tight_layout()\n",
        "plt.show()\n"
      ]
    },
    {
      "cell_type": "code",
      "execution_count": null,
      "id": "934045d7",
      "metadata": {
        "execution": {
          "iopub.execute_input": "2021-10-17T14:01:55.484774Z",
          "iopub.status.busy": "2021-10-17T14:01:55.484035Z",
          "iopub.status.idle": "2021-10-17T14:01:56.122031Z",
          "shell.execute_reply": "2021-10-17T14:01:56.121432Z",
          "shell.execute_reply.started": "2021-10-17T13:39:18.797985Z"
        },
        "papermill": {
          "duration": 0.739094,
          "end_time": "2021-10-17T14:01:56.122226",
          "exception": false,
          "start_time": "2021-10-17T14:01:55.383132",
          "status": "completed"
        },
        "tags": [],
        "id": "934045d7",
        "outputId": "f2bc4768-b728-4d60-8e79-983c2a92ba48"
      },
      "outputs": [
        {
          "data": {
            "image/png": "[encoded data removed]",
            "text/plain": [
              "<Figure size 432x288 with 2 Axes>"
            ]
          },
          "metadata": {},
          "output_type": "display_data"
        }
      ],
      "source": [
        "num_days = 7\n",
        "num_hours = 24\n",
        "fraud_days = fraud.step % num_days\n",
        "fraud_hours = fraud.step % num_hours\n",
        "valid_days = valid.step % num_days\n",
        "valid_hours = valid.step % num_hours\n",
        "\n",
        "# plotting scatterplot of the days of the week, identifying the fraudulent transactions (red) from the valid transactions (green)\n",
        "plt.subplot(1, 2, 1)\n",
        "fraud_days.hist(bins=num_days,color=\"red\")\n",
        "plt.title('Fraud transactions by Day')\n",
        "plt.xlabel('Day of the Week')\n",
        "plt.ylabel(\"# of transactions\")\n",
        "\n",
        "plt.subplot(1,2,2)\n",
        "valid_days.hist(bins=num_days,color=\"green\")\n",
        "plt.title('Valid transactions by Day')\n",
        "plt.xlabel('Day of the Week')\n",
        "plt.ylabel(\"# of transactions\")\n",
        "\n",
        "plt.tight_layout()\n",
        "plt.show()"
      ]
    },
    {
      "cell_type": "markdown",
      "id": "df5881bc",
      "metadata": {
        "papermill": {
          "duration": 0.098456,
          "end_time": "2021-10-17T14:01:56.318606",
          "exception": false,
          "start_time": "2021-10-17T14:01:56.220150",
          "status": "completed"
        },
        "tags": [],
        "id": "df5881bc"
      },
      "source": [
        "The distribution of fraud and valid dont show much of differnce to work with so I won't add this as a feature"
      ]
    },
    {
      "cell_type": "code",
      "execution_count": null,
      "id": "4f38153e",
      "metadata": {
        "execution": {
          "iopub.execute_input": "2021-10-17T14:01:56.556694Z",
          "iopub.status.busy": "2021-10-17T14:01:56.555933Z",
          "iopub.status.idle": "2021-10-17T14:01:57.233910Z",
          "shell.execute_reply": "2021-10-17T14:01:57.235245Z",
          "shell.execute_reply.started": "2021-10-17T13:39:19.358497Z"
        },
        "papermill": {
          "duration": 0.818895,
          "end_time": "2021-10-17T14:01:57.235550",
          "exception": false,
          "start_time": "2021-10-17T14:01:56.416655",
          "status": "completed"
        },
        "tags": [],
        "id": "4f38153e",
        "outputId": "754713c1-82ef-4f7a-b00c-a3beaa302b18"
      },
      "outputs": [
        {
          "data": {
            "image/png": "[encoded data removed]",
            "text/plain": [
              "<Figure size 432x288 with 2 Axes>"
            ]
          },
          "metadata": {},
          "output_type": "display_data"
        }
      ],
      "source": [
        "# plotting scatterplot of the hours of days, identifying the fraudulent transactions (red) from the valid transactions (green)\n",
        "plt.subplot(1, 2, 1)\n",
        "fraud_hours.hist(bins=num_hours, color=\"red\")\n",
        "plt.title('Fraud transactions by Hour')\n",
        "plt.xlabel('Hour of the Day')\n",
        "plt.ylabel(\"# of transactions\")\n",
        "\n",
        "\n",
        "plt.subplot(1, 2, 2)\n",
        "valid_hours.hist(bins=num_hours, color=\"green\")\n",
        "plt.title('Valid transactions by Hour')\n",
        "plt.xlabel('Hour of the Day')\n",
        "plt.ylabel(\"# of transactions\")\n",
        "\n",
        "plt.tight_layout()\n",
        "plt.show()"
      ]
    },
    {
      "cell_type": "code",
      "execution_count": null,
      "id": "59d2c289",
      "metadata": {
        "execution": {
          "iopub.execute_input": "2021-10-17T14:01:57.645020Z",
          "iopub.status.busy": "2021-10-17T14:01:57.642013Z",
          "iopub.status.idle": "2021-10-17T14:01:57.887939Z",
          "shell.execute_reply": "2021-10-17T14:01:57.887221Z",
          "shell.execute_reply.started": "2021-10-17T13:39:19.897095Z"
        },
        "papermill": {
          "duration": 0.348851,
          "end_time": "2021-10-17T14:01:57.888102",
          "exception": false,
          "start_time": "2021-10-17T14:01:57.539251",
          "status": "completed"
        },
        "tags": [],
        "id": "59d2c289",
        "outputId": "2c2f386b-b309-457f-d78f-9873abf0a981"
      },
      "outputs": [
        {
          "name": "stdout",
          "output_type": "stream",
          "text": [
            "Head of dataset1: \n",
            "     step      type     amount  oldbalanceOrg  newbalanceOrig  oldbalanceDest  \\\n",
            "2      1  TRANSFER     181.00          181.0             0.0             0.0   \n",
            "3      1  CASH_OUT     181.00          181.0             0.0         21182.0   \n",
            "15     1  CASH_OUT  229133.94        15325.0             0.0          5083.0   \n",
            "19     1  TRANSFER  215310.30          705.0             0.0         22425.0   \n",
            "24     1  TRANSFER  311685.89        10835.0             0.0          6267.0   \n",
            "\n",
            "    newbalanceDest  isFraud  errorbalanceOrg  errorbalanceDest  HourOfDay  \n",
            "2             0.00        1             0.00             181.0          1  \n",
            "3             0.00        1             0.00           21363.0          1  \n",
            "15        51513.44        0        213808.94          182703.5          1  \n",
            "19            0.00        0        214605.30          237735.3          1  \n",
            "24      2719172.89        0        300850.89        -2401220.0          1  \n"
          ]
        }
      ],
      "source": [
        "dataset = df_new.copy()\n",
        "\n",
        "\n",
        "# adding feature HourOfDay to Dataset1\n",
        "dataset[\"HourOfDay\"] = np.nan # initializing feature column\n",
        "dataset.HourOfDay = df_new.step % 24\n",
        "\n",
        "\n",
        "print(\"Head of dataset1: \\n\", pd.DataFrame.head(dataset))"
      ]
    },
    {
      "cell_type": "markdown",
      "id": "ff429872",
      "metadata": {
        "papermill": {
          "duration": 0.102989,
          "end_time": "2021-10-17T14:01:58.095342",
          "exception": false,
          "start_time": "2021-10-17T14:01:57.992353",
          "status": "completed"
        },
        "tags": [],
        "id": "ff429872"
      },
      "source": [
        "### Taking note of amount column"
      ]
    },
    {
      "cell_type": "code",
      "execution_count": null,
      "id": "d09f1287",
      "metadata": {
        "execution": {
          "iopub.execute_input": "2021-10-17T14:01:58.304717Z",
          "iopub.status.busy": "2021-10-17T14:01:58.303871Z",
          "iopub.status.idle": "2021-10-17T14:01:58.453186Z",
          "shell.execute_reply": "2021-10-17T14:01:58.452434Z",
          "shell.execute_reply.started": "2021-10-17T13:39:20.050122Z"
        },
        "papermill": {
          "duration": 0.2568,
          "end_time": "2021-10-17T14:01:58.453365",
          "exception": false,
          "start_time": "2021-10-17T14:01:58.196565",
          "status": "completed"
        },
        "tags": [],
        "id": "d09f1287",
        "outputId": "bbc1b27c-2584-4bbb-a65b-637a3af65a04"
      },
      "outputs": [
        {
          "name": "stdout",
          "output_type": "stream",
          "text": [
            "CASE AMOUNT STATISTICS\n",
            "\n",
            "NON-FRAUD CASE AMOUNT STATS\n",
            "count    2.762196e+06\n",
            "mean     3.141155e+05\n",
            "std      8.771441e+05\n",
            "min      1.000000e-02\n",
            "25%      8.290823e+04\n",
            "50%      1.710345e+05\n",
            "75%      3.059942e+05\n",
            "max      9.244552e+07\n",
            "Name: amount, dtype: float64\n",
            "\n",
            "FRAUD CASE AMOUNT STATS\n",
            "count    8.213000e+03\n",
            "mean     1.467967e+06\n",
            "std      2.404253e+06\n",
            "min      0.000000e+00\n",
            "25%      1.270913e+05\n",
            "50%      4.414234e+05\n",
            "75%      1.517771e+06\n",
            "max      1.000000e+07\n",
            "Name: amount, dtype: float64\n"
          ]
        }
      ],
      "source": [
        "print('CASE AMOUNT STATISTICS')\n",
        "print('\\nNON-FRAUD CASE AMOUNT STATS')\n",
        "print(valid['amount'].describe())\n",
        "print('\\nFRAUD CASE AMOUNT STATS')\n",
        "print(fraud['amount'].describe())"
      ]
    },
    {
      "cell_type": "code",
      "execution_count": null,
      "id": "9cdb53d2",
      "metadata": {
        "execution": {
          "iopub.execute_input": "2021-10-17T14:01:58.883131Z",
          "iopub.status.busy": "2021-10-17T14:01:58.881964Z",
          "iopub.status.idle": "2021-10-17T14:01:58.887438Z",
          "shell.execute_reply": "2021-10-17T14:01:58.887995Z",
          "shell.execute_reply.started": "2021-10-17T13:39:20.166172Z"
        },
        "papermill": {
          "duration": 0.127667,
          "end_time": "2021-10-17T14:01:58.888209",
          "exception": false,
          "start_time": "2021-10-17T14:01:58.760542",
          "status": "completed"
        },
        "tags": [],
        "id": "9cdb53d2",
        "outputId": "e600a293-fab2-4ba5-cc26-6ff04b179034"
      },
      "outputs": [
        {
          "data": {
            "text/html": [
              "<div>\n",
              "<style scoped>\n",
              "    .dataframe tbody tr th:only-of-type {\n",
              "        vertical-align: middle;\n",
              "    }\n",
              "\n",
              "    .dataframe tbody tr th {\n",
              "        vertical-align: top;\n",
              "    }\n",
              "\n",
              "    .dataframe thead th {\n",
              "        text-align: right;\n",
              "    }\n",
              "</style>\n",
              "<table border=\"1\" class=\"dataframe\">\n",
              "  <thead>\n",
              "    <tr style=\"text-align: right;\">\n",
              "      <th></th>\n",
              "      <th>step</th>\n",
              "      <th>type</th>\n",
              "      <th>amount</th>\n",
              "      <th>oldbalanceOrg</th>\n",
              "      <th>newbalanceOrig</th>\n",
              "      <th>oldbalanceDest</th>\n",
              "      <th>newbalanceDest</th>\n",
              "      <th>isFraud</th>\n",
              "      <th>errorbalanceOrg</th>\n",
              "      <th>errorbalanceDest</th>\n",
              "      <th>HourOfDay</th>\n",
              "    </tr>\n",
              "  </thead>\n",
              "  <tbody>\n",
              "    <tr>\n",
              "      <th>2</th>\n",
              "      <td>1</td>\n",
              "      <td>TRANSFER</td>\n",
              "      <td>181.00</td>\n",
              "      <td>181.0</td>\n",
              "      <td>0.0</td>\n",
              "      <td>0.0</td>\n",
              "      <td>0.00</td>\n",
              "      <td>1</td>\n",
              "      <td>0.00</td>\n",
              "      <td>181.0</td>\n",
              "      <td>1</td>\n",
              "    </tr>\n",
              "    <tr>\n",
              "      <th>3</th>\n",
              "      <td>1</td>\n",
              "      <td>CASH_OUT</td>\n",
              "      <td>181.00</td>\n",
              "      <td>181.0</td>\n",
              "      <td>0.0</td>\n",
              "      <td>21182.0</td>\n",
              "      <td>0.00</td>\n",
              "      <td>1</td>\n",
              "      <td>0.00</td>\n",
              "      <td>21363.0</td>\n",
              "      <td>1</td>\n",
              "    </tr>\n",
              "    <tr>\n",
              "      <th>15</th>\n",
              "      <td>1</td>\n",
              "      <td>CASH_OUT</td>\n",
              "      <td>229133.94</td>\n",
              "      <td>15325.0</td>\n",
              "      <td>0.0</td>\n",
              "      <td>5083.0</td>\n",
              "      <td>51513.44</td>\n",
              "      <td>0</td>\n",
              "      <td>213808.94</td>\n",
              "      <td>182703.5</td>\n",
              "      <td>1</td>\n",
              "    </tr>\n",
              "    <tr>\n",
              "      <th>19</th>\n",
              "      <td>1</td>\n",
              "      <td>TRANSFER</td>\n",
              "      <td>215310.30</td>\n",
              "      <td>705.0</td>\n",
              "      <td>0.0</td>\n",
              "      <td>22425.0</td>\n",
              "      <td>0.00</td>\n",
              "      <td>0</td>\n",
              "      <td>214605.30</td>\n",
              "      <td>237735.3</td>\n",
              "      <td>1</td>\n",
              "    </tr>\n",
              "    <tr>\n",
              "      <th>24</th>\n",
              "      <td>1</td>\n",
              "      <td>TRANSFER</td>\n",
              "      <td>311685.89</td>\n",
              "      <td>10835.0</td>\n",
              "      <td>0.0</td>\n",
              "      <td>6267.0</td>\n",
              "      <td>2719172.89</td>\n",
              "      <td>0</td>\n",
              "      <td>300850.89</td>\n",
              "      <td>-2401220.0</td>\n",
              "      <td>1</td>\n",
              "    </tr>\n",
              "  </tbody>\n",
              "</table>\n",
              "</div>"
            ],
            "text/plain": [
              "    step      type     amount  oldbalanceOrg  newbalanceOrig  oldbalanceDest  \\\n",
              "2      1  TRANSFER     181.00          181.0             0.0             0.0   \n",
              "3      1  CASH_OUT     181.00          181.0             0.0         21182.0   \n",
              "15     1  CASH_OUT  229133.94        15325.0             0.0          5083.0   \n",
              "19     1  TRANSFER  215310.30          705.0             0.0         22425.0   \n",
              "24     1  TRANSFER  311685.89        10835.0             0.0          6267.0   \n",
              "\n",
              "    newbalanceDest  isFraud  errorbalanceOrg  errorbalanceDest  HourOfDay  \n",
              "2             0.00        1             0.00             181.0          1  \n",
              "3             0.00        1             0.00           21363.0          1  \n",
              "15        51513.44        0        213808.94          182703.5          1  \n",
              "19            0.00        0        214605.30          237735.3          1  \n",
              "24      2719172.89        0        300850.89        -2401220.0          1  "
            ]
          },
          "execution_count": 41,
          "metadata": {},
          "output_type": "execute_result"
        }
      ],
      "source": [
        "dataset.head()"
      ]
    },
    {
      "cell_type": "code",
      "execution_count": null,
      "id": "dd552581",
      "metadata": {
        "execution": {
          "iopub.execute_input": "2021-10-17T14:01:59.500055Z",
          "iopub.status.busy": "2021-10-17T14:01:59.499417Z",
          "iopub.status.idle": "2021-10-17T14:02:00.501501Z",
          "shell.execute_reply": "2021-10-17T14:02:00.500906Z",
          "shell.execute_reply.started": "2021-10-17T13:39:20.191232Z"
        },
        "papermill": {
          "duration": 1.109799,
          "end_time": "2021-10-17T14:02:00.501647",
          "exception": false,
          "start_time": "2021-10-17T14:01:59.391848",
          "status": "completed"
        },
        "tags": [],
        "id": "dd552581"
      },
      "outputs": [],
      "source": [
        "dataset = pd.get_dummies(dataset,prefix=['type'])"
      ]
    },
    {
      "cell_type": "code",
      "execution_count": null,
      "id": "4bc70784",
      "metadata": {
        "execution": {
          "iopub.execute_input": "2021-10-17T14:02:00.721843Z",
          "iopub.status.busy": "2021-10-17T14:02:00.710229Z",
          "iopub.status.idle": "2021-10-17T14:02:00.727344Z",
          "shell.execute_reply": "2021-10-17T14:02:00.726632Z",
          "shell.execute_reply.started": "2021-10-17T13:39:20.748035Z"
        },
        "papermill": {
          "duration": 0.124227,
          "end_time": "2021-10-17T14:02:00.727496",
          "exception": false,
          "start_time": "2021-10-17T14:02:00.603269",
          "status": "completed"
        },
        "tags": [],
        "id": "4bc70784",
        "outputId": "7d6c236b-5314-43c8-ce8c-f05690734be1"
      },
      "outputs": [
        {
          "data": {
            "text/html": [
              "<div>\n",
              "<style scoped>\n",
              "    .dataframe tbody tr th:only-of-type {\n",
              "        vertical-align: middle;\n",
              "    }\n",
              "\n",
              "    .dataframe tbody tr th {\n",
              "        vertical-align: top;\n",
              "    }\n",
              "\n",
              "    .dataframe thead th {\n",
              "        text-align: right;\n",
              "    }\n",
              "</style>\n",
              "<table border=\"1\" class=\"dataframe\">\n",
              "  <thead>\n",
              "    <tr style=\"text-align: right;\">\n",
              "      <th></th>\n",
              "      <th>step</th>\n",
              "      <th>amount</th>\n",
              "      <th>oldbalanceOrg</th>\n",
              "      <th>newbalanceOrig</th>\n",
              "      <th>oldbalanceDest</th>\n",
              "      <th>newbalanceDest</th>\n",
              "      <th>isFraud</th>\n",
              "      <th>errorbalanceOrg</th>\n",
              "      <th>errorbalanceDest</th>\n",
              "      <th>HourOfDay</th>\n",
              "      <th>type_CASH_OUT</th>\n",
              "      <th>type_TRANSFER</th>\n",
              "    </tr>\n",
              "  </thead>\n",
              "  <tbody>\n",
              "    <tr>\n",
              "      <th>2</th>\n",
              "      <td>1</td>\n",
              "      <td>181.00</td>\n",
              "      <td>181.0</td>\n",
              "      <td>0.0</td>\n",
              "      <td>0.0</td>\n",
              "      <td>0.00</td>\n",
              "      <td>1</td>\n",
              "      <td>0.00</td>\n",
              "      <td>181.0</td>\n",
              "      <td>1</td>\n",
              "      <td>0</td>\n",
              "      <td>1</td>\n",
              "    </tr>\n",
              "    <tr>\n",
              "      <th>3</th>\n",
              "      <td>1</td>\n",
              "      <td>181.00</td>\n",
              "      <td>181.0</td>\n",
              "      <td>0.0</td>\n",
              "      <td>21182.0</td>\n",
              "      <td>0.00</td>\n",
              "      <td>1</td>\n",
              "      <td>0.00</td>\n",
              "      <td>21363.0</td>\n",
              "      <td>1</td>\n",
              "      <td>1</td>\n",
              "      <td>0</td>\n",
              "    </tr>\n",
              "    <tr>\n",
              "      <th>15</th>\n",
              "      <td>1</td>\n",
              "      <td>229133.94</td>\n",
              "      <td>15325.0</td>\n",
              "      <td>0.0</td>\n",
              "      <td>5083.0</td>\n",
              "      <td>51513.44</td>\n",
              "      <td>0</td>\n",
              "      <td>213808.94</td>\n",
              "      <td>182703.5</td>\n",
              "      <td>1</td>\n",
              "      <td>1</td>\n",
              "      <td>0</td>\n",
              "    </tr>\n",
              "    <tr>\n",
              "      <th>19</th>\n",
              "      <td>1</td>\n",
              "      <td>215310.30</td>\n",
              "      <td>705.0</td>\n",
              "      <td>0.0</td>\n",
              "      <td>22425.0</td>\n",
              "      <td>0.00</td>\n",
              "      <td>0</td>\n",
              "      <td>214605.30</td>\n",
              "      <td>237735.3</td>\n",
              "      <td>1</td>\n",
              "      <td>0</td>\n",
              "      <td>1</td>\n",
              "    </tr>\n",
              "    <tr>\n",
              "      <th>24</th>\n",
              "      <td>1</td>\n",
              "      <td>311685.89</td>\n",
              "      <td>10835.0</td>\n",
              "      <td>0.0</td>\n",
              "      <td>6267.0</td>\n",
              "      <td>2719172.89</td>\n",
              "      <td>0</td>\n",
              "      <td>300850.89</td>\n",
              "      <td>-2401220.0</td>\n",
              "      <td>1</td>\n",
              "      <td>0</td>\n",
              "      <td>1</td>\n",
              "    </tr>\n",
              "  </tbody>\n",
              "</table>\n",
              "</div>"
            ],
            "text/plain": [
              "    step     amount  oldbalanceOrg  newbalanceOrig  oldbalanceDest  \\\n",
              "2      1     181.00          181.0             0.0             0.0   \n",
              "3      1     181.00          181.0             0.0         21182.0   \n",
              "15     1  229133.94        15325.0             0.0          5083.0   \n",
              "19     1  215310.30          705.0             0.0         22425.0   \n",
              "24     1  311685.89        10835.0             0.0          6267.0   \n",
              "\n",
              "    newbalanceDest  isFraud  errorbalanceOrg  errorbalanceDest  HourOfDay  \\\n",
              "2             0.00        1             0.00             181.0          1   \n",
              "3             0.00        1             0.00           21363.0          1   \n",
              "15        51513.44        0        213808.94          182703.5          1   \n",
              "19            0.00        0        214605.30          237735.3          1   \n",
              "24      2719172.89        0        300850.89        -2401220.0          1   \n",
              "\n",
              "    type_CASH_OUT  type_TRANSFER  \n",
              "2               0              1  \n",
              "3               1              0  \n",
              "15              1              0  \n",
              "19              0              1  \n",
              "24              0              1  "
            ]
          },
          "execution_count": 43,
          "metadata": {},
          "output_type": "execute_result"
        }
      ],
      "source": [
        "dataset.head()"
      ]
    },
    {
      "cell_type": "code",
      "execution_count": null,
      "id": "05a4cd1c",
      "metadata": {
        "execution": {
          "iopub.execute_input": "2021-10-17T14:02:00.941933Z",
          "iopub.status.busy": "2021-10-17T14:02:00.941193Z",
          "iopub.status.idle": "2021-10-17T14:02:06.272598Z",
          "shell.execute_reply": "2021-10-17T14:02:06.271548Z",
          "shell.execute_reply.started": "2021-10-17T13:39:20.771547Z"
        },
        "papermill": {
          "duration": 5.442165,
          "end_time": "2021-10-17T14:02:06.273001",
          "exception": false,
          "start_time": "2021-10-17T14:02:00.830836",
          "status": "completed"
        },
        "tags": [],
        "id": "05a4cd1c",
        "outputId": "cc4e909f-7a85-4802-f872-81dba6cadf53"
      },
      "outputs": [
        {
          "name": "stderr",
          "output_type": "stream",
          "text": [
            "/opt/conda/lib/python3.7/site-packages/ipykernel_launcher.py:7: FutureWarning: In a future version of pandas all arguments of DataFrame.drop except for the argument 'labels' will be keyword-only\n",
            "  import sys\n"
          ]
        }
      ],
      "source": [
        "from random import seed,sample\n",
        "from sklearn.model_selection import train_test_split\n",
        "from sklearn.preprocessing import StandardScaler\n",
        "\n",
        "seed(21)\n",
        "\n",
        "X = dataset.drop(\"isFraud\",1)\n",
        "Y = dataset.isFraud\n",
        "X_train, X_test, y_train, y_test = train_test_split(X, Y, test_size = 0.2, random_state = 42)\n",
        "\n",
        "# Normalizing data so that all variables follow the same scale (0 to 1)\n",
        "scaler = StandardScaler()\n",
        "\n",
        "# Fit only to the training data\n",
        "scaler.fit(X_train)\n",
        "\n",
        "# Now apply the transformations to the data:\n",
        "X_train = scaler.transform(X_train)\n",
        "X_test = scaler.transform(X_test)\n"
      ]
    },
    {
      "cell_type": "code",
      "execution_count": null,
      "id": "7965e8ee",
      "metadata": {
        "execution": {
          "iopub.execute_input": "2021-10-17T14:02:06.487795Z",
          "iopub.status.busy": "2021-10-17T14:02:06.486788Z",
          "iopub.status.idle": "2021-10-17T14:02:06.492565Z",
          "shell.execute_reply": "2021-10-17T14:02:06.491768Z",
          "shell.execute_reply.started": "2021-10-17T13:39:22.683565Z"
        },
        "papermill": {
          "duration": 0.113195,
          "end_time": "2021-10-17T14:02:06.492751",
          "exception": false,
          "start_time": "2021-10-17T14:02:06.379556",
          "status": "completed"
        },
        "tags": [],
        "id": "7965e8ee",
        "outputId": "e4d881f8-b876-498b-d284-63078836a922"
      },
      "outputs": [
        {
          "name": "stdout",
          "output_type": "stream",
          "text": [
            "Shape of X_train:  (2216327, 11)\n",
            "Shape of X_test:  (554082, 11)\n"
          ]
        }
      ],
      "source": [
        "print(\"Shape of X_train: \", X_train.shape)\n",
        "print(\"Shape of X_test: \", X_test.shape)"
      ]
    },
    {
      "cell_type": "markdown",
      "id": "edac75ce",
      "metadata": {
        "papermill": {
          "duration": 0.101608,
          "end_time": "2021-10-17T14:02:06.696581",
          "exception": false,
          "start_time": "2021-10-17T14:02:06.594973",
          "status": "completed"
        },
        "tags": [],
        "id": "edac75ce"
      },
      "source": [
        "## Model Selection"
      ]
    },
    {
      "cell_type": "code",
      "execution_count": null,
      "id": "224beb42",
      "metadata": {
        "execution": {
          "iopub.execute_input": "2021-10-17T14:02:06.905810Z",
          "iopub.status.busy": "2021-10-17T14:02:06.904798Z",
          "iopub.status.idle": "2021-10-17T14:02:06.909765Z",
          "shell.execute_reply": "2021-10-17T14:02:06.909232Z",
          "shell.execute_reply.started": "2021-10-17T13:39:22.689988Z"
        },
        "papermill": {
          "duration": 0.111908,
          "end_time": "2021-10-17T14:02:06.909899",
          "exception": false,
          "start_time": "2021-10-17T14:02:06.797991",
          "status": "completed"
        },
        "tags": [],
        "id": "224beb42",
        "outputId": "0365fa0d-c88c-4f78-c152-2bedf3b0aefc"
      },
      "outputs": [
        {
          "name": "stdout",
          "output_type": "stream",
          "text": [
            "fruad  (8213, 10)\n",
            "Valid (2762196, 10)\n"
          ]
        }
      ],
      "source": [
        "print('fruad ',fraud.shape)\n",
        "print('Valid', valid.shape)\n"
      ]
    },
    {
      "cell_type": "code",
      "execution_count": null,
      "id": "45020e8c",
      "metadata": {
        "execution": {
          "iopub.execute_input": "2021-10-17T14:02:07.318306Z",
          "iopub.status.busy": "2021-10-17T14:02:07.317314Z",
          "iopub.status.idle": "2021-10-17T14:02:07.624129Z",
          "shell.execute_reply": "2021-10-17T14:02:07.623522Z",
          "shell.execute_reply.started": "2021-10-17T13:39:22.703372Z"
        },
        "papermill": {
          "duration": 0.411205,
          "end_time": "2021-10-17T14:02:07.624303",
          "exception": false,
          "start_time": "2021-10-17T14:02:07.213098",
          "status": "completed"
        },
        "tags": [],
        "id": "45020e8c"
      },
      "outputs": [],
      "source": [
        "from sklearn.tree import DecisionTreeClassifier # Decision tree algorithm\n",
        "from sklearn.ensemble import RandomForestClassifier # Random forest tree algorithm\n",
        "from xgboost import XGBClassifier # XGBoost algorithm\n",
        "from sklearn.metrics import average_precision_score\n",
        "from sklearn.metrics import classification_report,confusion_matrix,accuracy_score, roc_curve, auc, precision_score"
      ]
    },
    {
      "cell_type": "code",
      "execution_count": null,
      "id": "f6a19530",
      "metadata": {
        "execution": {
          "iopub.execute_input": "2021-10-17T14:02:08.051270Z",
          "iopub.status.busy": "2021-10-17T14:02:08.049915Z",
          "iopub.status.idle": "2021-10-17T14:02:37.788039Z",
          "shell.execute_reply": "2021-10-17T14:02:37.787309Z",
          "shell.execute_reply.started": "2021-10-17T13:39:23.014845Z"
        },
        "papermill": {
          "duration": 29.852634,
          "end_time": "2021-10-17T14:02:37.788210",
          "exception": false,
          "start_time": "2021-10-17T14:02:07.935576",
          "status": "completed"
        },
        "tags": [],
        "id": "f6a19530",
        "outputId": "11d23f07-17cc-4f92-d0ce-dc727a068721"
      },
      "outputs": [
        {
          "name": "stdout",
          "output_type": "stream",
          "text": [
            "Confusion Matrix : \n",
            " [[552435      1]\n",
            " [    10   1636]]\n",
            "Classification Report : \n",
            "               precision    recall  f1-score   support\n",
            "\n",
            "           0       1.00      1.00      1.00    552436\n",
            "           1       1.00      0.99      1.00      1646\n",
            "\n",
            "    accuracy                           1.00    554082\n",
            "   macro avg       1.00      1.00      1.00    554082\n",
            "weighted avg       1.00      1.00      1.00    554082\n",
            "\n",
            "Area Under Curve : \n",
            " 0.9969614278460933\n"
          ]
        }
      ],
      "source": [
        "# Train model\n",
        "parametersRF = {'n_estimators':15,'class_weight': \"balanced\",'n_jobs':-1,'random_state':42}\n",
        "RF = RandomForestClassifier(**parametersRF)\n",
        "fitted_vals = RF.fit(X_train, y_train)\n",
        "\n",
        "# Predict on testing set\n",
        "predictionsRF = RF.predict(X_test)\n",
        "\n",
        "\n",
        "# Evaluating model\n",
        "CM_RF = confusion_matrix(y_test,predictionsRF)\n",
        "CR_RF = classification_report(y_test,predictionsRF)\n",
        "fprRF, recallRF, thresholdsRF = roc_curve(y_test, predictionsRF)\n",
        "AUC_RF = auc(fprRF, recallRF)\n",
        "\n",
        "resultsRF = {\"Confusion Matrix\":CM_RF,\"Classification Report\":CR_RF,\"Area Under Curve\":AUC_RF}\n",
        "\n",
        "# showing results from Random Forest\n",
        "\n",
        "for measure in resultsRF:\n",
        "    print(measure,\": \\n\",resultsRF[measure])"
      ]
    },
    {
      "cell_type": "markdown",
      "id": "a73d5b77",
      "metadata": {
        "papermill": {
          "duration": 0.101283,
          "end_time": "2021-10-17T14:02:37.991333",
          "exception": false,
          "start_time": "2021-10-17T14:02:37.890050",
          "status": "completed"
        },
        "tags": [],
        "id": "a73d5b77"
      },
      "source": [
        "### Model 2: Decision Tree"
      ]
    },
    {
      "cell_type": "code",
      "execution_count": null,
      "id": "67189814",
      "metadata": {
        "execution": {
          "iopub.execute_input": "2021-10-17T14:02:38.203691Z",
          "iopub.status.busy": "2021-10-17T14:02:38.202509Z",
          "iopub.status.idle": "2021-10-17T14:03:10.101963Z",
          "shell.execute_reply": "2021-10-17T14:03:10.102773Z",
          "shell.execute_reply.started": "2021-10-17T13:39:48.896578Z"
        },
        "papermill": {
          "duration": 32.010401,
          "end_time": "2021-10-17T14:03:10.103188",
          "exception": false,
          "start_time": "2021-10-17T14:02:38.092787",
          "status": "completed"
        },
        "tags": [],
        "id": "67189814",
        "outputId": "d4b59269-7bbc-4a12-9602-848aa221b247"
      },
      "outputs": [
        {
          "name": "stdout",
          "output_type": "stream",
          "text": [
            "Confusion Matrix : \n",
            " [[552426     10]\n",
            " [    11   1635]]\n",
            "Classification Report : \n",
            "               precision    recall  f1-score   support\n",
            "\n",
            "           0       1.00      1.00      1.00    552436\n",
            "           1       0.99      0.99      0.99      1646\n",
            "\n",
            "    accuracy                           1.00    554082\n",
            "   macro avg       1.00      1.00      1.00    554082\n",
            "weighted avg       1.00      1.00      1.00    554082\n",
            "\n",
            "Area Under Curve : \n",
            " 0.9966495153989655\n"
          ]
        }
      ],
      "source": [
        "# Train model\n",
        "DT = DecisionTreeClassifier()\n",
        "fitted_vals = DT.fit(X_train, y_train)\n",
        "\n",
        "# Predict on testing set\n",
        "predictionsDT = DT.predict(X_test)\n",
        "\n",
        "\n",
        "# Evaluating model\n",
        "CM_DT = confusion_matrix(y_test,predictionsDT)\n",
        "CR_DT = classification_report(y_test,predictionsDT)\n",
        "fprDT, recallDT, thresholdsDT = roc_curve(y_test, predictionsDT)\n",
        "AUC_DT = auc(fprDT, recallDT)\n",
        "\n",
        "resultsDT = {\"Confusion Matrix\":CM_DT,\"Classification Report\":CR_DT,\"Area Under Curve\":AUC_DT}\n",
        "\n",
        "# showing results from Random Forest\n",
        "\n",
        "for measure in resultsDT:\n",
        "    print(measure,\": \\n\",resultsDT[measure])"
      ]
    },
    {
      "cell_type": "code",
      "execution_count": null,
      "id": "191f4bec",
      "metadata": {
        "execution": {
          "iopub.execute_input": "2021-10-17T14:03:10.755656Z",
          "iopub.status.busy": "2021-10-17T14:03:10.754902Z",
          "iopub.status.idle": "2021-10-17T14:05:17.755605Z",
          "shell.execute_reply": "2021-10-17T14:05:17.756174Z",
          "shell.execute_reply.started": "2021-10-17T13:40:20.320515Z"
        },
        "papermill": {
          "duration": 127.116427,
          "end_time": "2021-10-17T14:05:17.756422",
          "exception": false,
          "start_time": "2021-10-17T14:03:10.639995",
          "status": "completed"
        },
        "tags": [],
        "id": "191f4bec",
        "outputId": "8fbac7f1-55d9-418c-8248-e7b178ffb927"
      },
      "outputs": [
        {
          "name": "stderr",
          "output_type": "stream",
          "text": [
            "/opt/conda/lib/python3.7/site-packages/xgboost/sklearn.py:1146: UserWarning: The use of label encoder in XGBClassifier is deprecated and will be removed in a future release. To remove this warning, do the following: 1) Pass option use_label_encoder=False when constructing XGBClassifier object; and 2) Encode your labels (y) as integers starting with 0, i.e. 0, 1, 2, ..., [num_class - 1].\n",
            "  warnings.warn(label_encoder_deprecation_msg, UserWarning)\n"
          ]
        },
        {
          "name": "stdout",
          "output_type": "stream",
          "text": [
            "[14:03:11] WARNING: ../src/learner.cc:573: \n",
            "Parameters: { \"class_weight\" } might not be used.\n",
            "\n",
            "  This may not be accurate due to some parameters are only used in language bindings but\n",
            "  passed down to XGBoost core.  Or some parameters are not used but slip through this\n",
            "  verification. Please open an issue if you find above cases.\n",
            "\n",
            "\n",
            "[14:03:13] WARNING: ../src/learner.cc:1095: Starting in XGBoost 1.3.0, the default evaluation metric used with the objective 'binary:logistic' was changed from 'error' to 'logloss'. Explicitly set eval_metric if you'd like to restore the old behavior.\n",
            "Confusion Matrix : \n",
            " [[552436      0]\n",
            " [    11   1635]] \n",
            "\n",
            "Classification Report : \n",
            "               precision    recall  f1-score   support\n",
            "\n",
            "           0       1.00      1.00      1.00    552436\n",
            "           1       1.00      0.99      1.00      1646\n",
            "\n",
            "    accuracy                           1.00    554082\n",
            "   macro avg       1.00      1.00      1.00    554082\n",
            "weighted avg       1.00      1.00      1.00    554082\n",
            " \n",
            "\n",
            "Area Under Curve : \n",
            " 0.9966585662211422 \n",
            "\n"
          ]
        }
      ],
      "source": [
        "# Train model\n",
        "parametersXGB = {'max_depth':3,'class_weight': \"balanced\",'n_jobs':-1,'random_state':42,'learning_rate':0.1}\n",
        "XGB = XGBClassifier(**parametersXGB)\n",
        "\n",
        "\n",
        "fitted_vals = XGB.fit(X_train, y_train)\n",
        "\n",
        "# Predict on testing set\n",
        "predictionsXGB = XGB.predict(X_test)\n",
        "\n",
        "\n",
        "# Evaluating model\n",
        "CM_XGB = confusion_matrix(y_test,predictionsXGB)\n",
        "CR_XGB = classification_report(y_test,predictionsXGB)\n",
        "fprXGB, recallXGB, thresholds_XGB = roc_curve(y_test, predictionsXGB)\n",
        "AUC_XGB = auc(fprXGB, recallXGB)\n",
        "resultsXGB = {\"Confusion Matrix\":CM_XGB,\"Classification Report\":CR_XGB,\"Area Under Curve\":AUC_XGB}\n",
        "# showing results from Extreme Gradient Boosting\n",
        "for measure in resultsXGB:\n",
        "    print(measure,\": \\n\",resultsXGB[measure],\"\\n\")"
      ]
    },
    {
      "cell_type": "code",
      "execution_count": null,
      "id": "cbee55aa",
      "metadata": {
        "execution": {
          "iopub.execute_input": "2021-10-17T14:05:18.180161Z",
          "iopub.status.busy": "2021-10-17T14:05:18.179104Z",
          "iopub.status.idle": "2021-10-17T14:05:18.184155Z",
          "shell.execute_reply": "2021-10-17T14:05:18.184668Z",
          "shell.execute_reply.started": "2021-10-17T13:42:09.444698Z"
        },
        "papermill": {
          "duration": 0.115765,
          "end_time": "2021-10-17T14:05:18.184848",
          "exception": false,
          "start_time": "2021-10-17T14:05:18.069083",
          "status": "completed"
        },
        "tags": [],
        "id": "cbee55aa",
        "outputId": "0ca7673d-b9b0-4611-b273-7208a9c06d56"
      },
      "outputs": [
        {
          "name": "stdout",
          "output_type": "stream",
          "text": [
            "Note: scores in the same vertical level as 0 are scores for valid transactions. \n",
            "       Scores in the same vertical level as 1 are scores for fraudulent transactions. \n",
            "\n",
            "Classification Report of Random Forest: \n",
            "               precision    recall  f1-score   support\n",
            "\n",
            "           0       1.00      1.00      1.00    552436\n",
            "           1       1.00      0.99      1.00      1646\n",
            "\n",
            "    accuracy                           1.00    554082\n",
            "   macro avg       1.00      1.00      1.00    554082\n",
            "weighted avg       1.00      1.00      1.00    554082\n",
            "\n",
            "Classification Report of Decision trees: \n",
            "               precision    recall  f1-score   support\n",
            "\n",
            "           0       1.00      1.00      1.00    552436\n",
            "           1       0.99      0.99      0.99      1646\n",
            "\n",
            "    accuracy                           1.00    554082\n",
            "   macro avg       1.00      1.00      1.00    554082\n",
            "weighted avg       1.00      1.00      1.00    554082\n",
            "\n",
            "Classification Report of XGB trees: \n",
            "               precision    recall  f1-score   support\n",
            "\n",
            "           0       1.00      1.00      1.00    552436\n",
            "           1       1.00      0.99      1.00      1646\n",
            "\n",
            "    accuracy                           1.00    554082\n",
            "   macro avg       1.00      1.00      1.00    554082\n",
            "weighted avg       1.00      1.00      1.00    554082\n",
            "\n"
          ]
        }
      ],
      "source": [
        "print(\"Note: scores in the same vertical level as 0 are scores for valid transactions. \\n \\\n",
        "      Scores in the same vertical level as 1 are scores for fraudulent transactions. \\n\")\n",
        "print(\"Classification Report of Random Forest: \\n\", CR_RF)\n",
        "print(\"Classification Report of Decision trees: \\n\", CR_DT)\n",
        "print(\"Classification Report of XGB trees: \\n\", CR_XGB)\n"
      ]
    },
    {
      "cell_type": "code",
      "execution_count": null,
      "id": "6f551213",
      "metadata": {
        "execution": {
          "iopub.execute_input": "2021-10-17T14:05:18.820033Z",
          "iopub.status.busy": "2021-10-17T14:05:18.819316Z",
          "iopub.status.idle": "2021-10-17T14:05:19.195657Z",
          "shell.execute_reply": "2021-10-17T14:05:19.196211Z",
          "shell.execute_reply.started": "2021-10-17T13:42:09.452427Z"
        },
        "papermill": {
          "duration": 0.487858,
          "end_time": "2021-10-17T14:05:19.196423",
          "exception": false,
          "start_time": "2021-10-17T14:05:18.708565",
          "status": "completed"
        },
        "tags": [],
        "id": "6f551213",
        "outputId": "030434c5-f1e6-4c15-9035-e75d8a91bede"
      },
      "outputs": [
        {
          "name": "stdout",
          "output_type": "stream",
          "text": [
            "0.8.1\n",
            "0.8.1\n"
          ]
        }
      ],
      "source": [
        "\n",
        "# check version number\n",
        "import imblearn\n",
        "print(imblearn.__version__)\n",
        "# check version number\n",
        "import imblearn\n",
        "print(imblearn.__version__)"
      ]
    },
    {
      "cell_type": "code",
      "execution_count": null,
      "id": "9db2a76e",
      "metadata": {
        "execution": {
          "iopub.execute_input": "2021-10-17T14:05:19.412614Z",
          "iopub.status.busy": "2021-10-17T14:05:19.411909Z",
          "iopub.status.idle": "2021-10-17T14:05:20.894849Z",
          "shell.execute_reply": "2021-10-17T14:05:20.894301Z",
          "shell.execute_reply.started": "2021-10-17T13:42:09.751215Z"
        },
        "papermill": {
          "duration": 1.592682,
          "end_time": "2021-10-17T14:05:20.895013",
          "exception": false,
          "start_time": "2021-10-17T14:05:19.302331",
          "status": "completed"
        },
        "tags": [],
        "id": "9db2a76e",
        "outputId": "1454cedd-3a11-419f-8602-f51186e5f21e"
      },
      "outputs": [
        {
          "name": "stdout",
          "output_type": "stream",
          "text": [
            "Resampled shape of X:  (16426, 11)\n",
            "Resampled shape of Y:  (16426,)\n",
            "Counter({0: 8213, 1: 8213})\n"
          ]
        }
      ],
      "source": [
        "from collections import Counter\n",
        "from sklearn.datasets import make_classification\n",
        "from imblearn.under_sampling import RandomUnderSampler\n",
        "rus = RandomUnderSampler(random_state=42)\n",
        "X_resampled, Y_resampled = rus.fit_resample(X, Y)\n",
        "print(\"Resampled shape of X: \", X_resampled.shape)\n",
        "print(\"Resampled shape of Y: \", Y_resampled.shape)\n",
        "value_counts = Counter(Y_resampled)\n",
        "print(value_counts)\n",
        "train_X, test_X, train_Y, test_Y = train_test_split(X_resampled, Y_resampled, test_size= 0.3, random_state= 42)\n",
        ""
      ]
    },
    {
      "cell_type": "markdown",
      "id": "13c66483",
      "metadata": {
        "papermill": {
          "duration": 0.105862,
          "end_time": "2021-10-17T14:05:21.105569",
          "exception": false,
          "start_time": "2021-10-17T14:05:20.999707",
          "status": "completed"
        },
        "tags": [],
        "id": "13c66483"
      },
      "source": [
        "### Model 1: Random Forest: Balanced Data"
      ]
    },
    {
      "cell_type": "code",
      "execution_count": null,
      "id": "dd46ede4",
      "metadata": {
        "execution": {
          "iopub.execute_input": "2021-10-17T14:05:21.318450Z",
          "iopub.status.busy": "2021-10-17T14:05:21.317453Z",
          "iopub.status.idle": "2021-10-17T14:05:21.570452Z",
          "shell.execute_reply": "2021-10-17T14:05:21.570988Z",
          "shell.execute_reply.started": "2021-10-17T13:42:11.193623Z"
        },
        "papermill": {
          "duration": 0.36149,
          "end_time": "2021-10-17T14:05:21.571200",
          "exception": false,
          "start_time": "2021-10-17T14:05:21.209710",
          "status": "completed"
        },
        "tags": [],
        "id": "dd46ede4",
        "outputId": "05c31705-bddb-4327-bf6d-f5d6c5405b37"
      },
      "outputs": [
        {
          "name": "stdout",
          "output_type": "stream",
          "text": [
            "Confusion Matrix : \n",
            " [[2477    2]\n",
            " [   9 2440]]\n",
            "Classification Report : \n",
            "               precision    recall  f1-score   support\n",
            "\n",
            "           0       1.00      1.00      1.00      2479\n",
            "           1       1.00      1.00      1.00      2449\n",
            "\n",
            "    accuracy                           1.00      4928\n",
            "   macro avg       1.00      1.00      1.00      4928\n",
            "weighted avg       1.00      1.00      1.00      4928\n",
            "\n",
            "Area Under Curve : \n",
            " 0.9977591268492824\n"
          ]
        }
      ],
      "source": [
        "# Train model\n",
        "parametersRF = {'n_estimators':15,'n_jobs':-1,'random_state':42}\n",
        "RF = RandomForestClassifier(**parametersRF)\n",
        "fitted_vals = RF.fit(train_X, train_Y)\n",
        "\n",
        "# Predict on testing set\n",
        "predictionsRF = RF.predict(test_X)\n",
        "\n",
        "\n",
        "# Evaluating model\n",
        "CM_RF = confusion_matrix(test_Y,predictionsRF)\n",
        "CR_RF = classification_report(test_Y,predictionsRF)\n",
        "fprRF, recallRF, thresholdsRF = roc_curve(test_Y, predictionsRF)\n",
        "AUC_RF = auc(fprRF, recallRF)\n",
        "\n",
        "resultsRF = {\"Confusion Matrix\":CM_RF,\"Classification Report\":CR_RF,\"Area Under Curve\":AUC_RF}\n",
        "\n",
        "# showing results from Random Forest\n",
        "\n",
        "for measure in resultsRF:\n",
        "    print(measure,\": \\n\",resultsRF[measure])"
      ]
    },
    {
      "cell_type": "markdown",
      "id": "d42cf8ee",
      "metadata": {
        "papermill": {
          "duration": 0.104304,
          "end_time": "2021-10-17T14:05:21.782304",
          "exception": false,
          "start_time": "2021-10-17T14:05:21.678000",
          "status": "completed"
        },
        "tags": [],
        "id": "d42cf8ee"
      },
      "source": [
        "### Model 2: Decision Tree Classifier: Balanced Data"
      ]
    },
    {
      "cell_type": "code",
      "execution_count": null,
      "id": "ce4a840b",
      "metadata": {
        "execution": {
          "iopub.execute_input": "2021-10-17T14:05:21.998234Z",
          "iopub.status.busy": "2021-10-17T14:05:21.997508Z",
          "iopub.status.idle": "2021-10-17T14:05:53.723706Z",
          "shell.execute_reply": "2021-10-17T14:05:53.724305Z",
          "shell.execute_reply.started": "2021-10-17T13:42:11.451056Z"
        },
        "papermill": {
          "duration": 31.836762,
          "end_time": "2021-10-17T14:05:53.724532",
          "exception": false,
          "start_time": "2021-10-17T14:05:21.887770",
          "status": "completed"
        },
        "tags": [],
        "id": "ce4a840b",
        "outputId": "1b9ea610-294b-478d-b832-1dfde59ca649"
      },
      "outputs": [
        {
          "name": "stdout",
          "output_type": "stream",
          "text": [
            "Confusion Matrix : \n",
            " [[552424     12]\n",
            " [     9   1637]]\n",
            "Classification Report : \n",
            "               precision    recall  f1-score   support\n",
            "\n",
            "           0       1.00      1.00      1.00    552436\n",
            "           1       0.99      0.99      0.99      1646\n",
            "\n",
            "    accuracy                           1.00    554082\n",
            "   macro avg       1.00      1.00      1.00    554082\n",
            "weighted avg       1.00      1.00      1.00    554082\n",
            "\n",
            "Area Under Curve : \n",
            " 0.9972552386488679\n"
          ]
        }
      ],
      "source": [
        "# Train model\n",
        "DT = DecisionTreeClassifier()\n",
        "fitted_vals = DT.fit(X_train, y_train)\n",
        "\n",
        "# Predict on testing set\n",
        "predictionsDT = DT.predict(X_test)\n",
        "\n",
        "\n",
        "# Evaluating model\n",
        "CM_DT = confusion_matrix(y_test,predictionsDT)\n",
        "CR_DT = classification_report(y_test,predictionsDT)\n",
        "fprDT, recallDT, thresholdsDT = roc_curve(y_test, predictionsDT)\n",
        "AUC_DT = auc(fprDT, recallDT)\n",
        "\n",
        "resultsDT = {\"Confusion Matrix\":CM_DT,\"Classification Report\":CR_DT,\"Area Under Curve\":AUC_DT}\n",
        "\n",
        "# showing results from Random Forest\n",
        "\n",
        "for measure in resultsDT:\n",
        "    print(measure,\": \\n\",resultsDT[measure])"
      ]
    },
    {
      "cell_type": "markdown",
      "id": "8bcde776",
      "metadata": {
        "papermill": {
          "duration": 0.105757,
          "end_time": "2021-10-17T14:05:53.940297",
          "exception": false,
          "start_time": "2021-10-17T14:05:53.834540",
          "status": "completed"
        },
        "tags": [],
        "id": "8bcde776"
      },
      "source": [
        "###  XGBoost Classifier: Balanced Data"
      ]
    },
    {
      "cell_type": "code",
      "execution_count": null,
      "id": "fbe8af94",
      "metadata": {
        "execution": {
          "iopub.execute_input": "2021-10-17T14:05:54.164195Z",
          "iopub.status.busy": "2021-10-17T14:05:54.163359Z",
          "iopub.status.idle": "2021-10-17T14:07:57.338190Z",
          "shell.execute_reply": "2021-10-17T14:07:57.338774Z",
          "shell.execute_reply.started": "2021-10-17T13:42:42.536608Z"
        },
        "papermill": {
          "duration": 123.290894,
          "end_time": "2021-10-17T14:07:57.339026",
          "exception": false,
          "start_time": "2021-10-17T14:05:54.048132",
          "status": "completed"
        },
        "tags": [],
        "id": "fbe8af94",
        "outputId": "31e6f841-5a1c-4f02-99dd-7286ed38d3d6"
      },
      "outputs": [
        {
          "name": "stderr",
          "output_type": "stream",
          "text": [
            "/opt/conda/lib/python3.7/site-packages/xgboost/sklearn.py:1146: UserWarning: The use of label encoder in XGBClassifier is deprecated and will be removed in a future release. To remove this warning, do the following: 1) Pass option use_label_encoder=False when constructing XGBClassifier object; and 2) Encode your labels (y) as integers starting with 0, i.e. 0, 1, 2, ..., [num_class - 1].\n",
            "  warnings.warn(label_encoder_deprecation_msg, UserWarning)\n"
          ]
        },
        {
          "name": "stdout",
          "output_type": "stream",
          "text": [
            "[14:05:54] WARNING: ../src/learner.cc:573: \n",
            "Parameters: { \"class_weight\" } might not be used.\n",
            "\n",
            "  This may not be accurate due to some parameters are only used in language bindings but\n",
            "  passed down to XGBoost core.  Or some parameters are not used but slip through this\n",
            "  verification. Please open an issue if you find above cases.\n",
            "\n",
            "\n",
            "[14:05:56] WARNING: ../src/learner.cc:1095: Starting in XGBoost 1.3.0, the default evaluation metric used with the objective 'binary:logistic' was changed from 'error' to 'logloss'. Explicitly set eval_metric if you'd like to restore the old behavior.\n",
            "Confusion Matrix : \n",
            " [[552436      0]\n",
            " [    11   1635]] \n",
            "\n",
            "Classification Report : \n",
            "               precision    recall  f1-score   support\n",
            "\n",
            "           0       1.00      1.00      1.00    552436\n",
            "           1       1.00      0.99      1.00      1646\n",
            "\n",
            "    accuracy                           1.00    554082\n",
            "   macro avg       1.00      1.00      1.00    554082\n",
            "weighted avg       1.00      1.00      1.00    554082\n",
            " \n",
            "\n",
            "Area Under Curve : \n",
            " 0.9966585662211422 \n",
            "\n"
          ]
        }
      ],
      "source": [
        "# Train model\n",
        "parametersXGB = {'max_depth':3,'class_weight': \"balanced\",'n_jobs':-1,'random_state':42,'learning_rate':0.1}\n",
        "XGB = XGBClassifier(**parametersXGB)\n",
        "\n",
        "\n",
        "fitted_vals = XGB.fit(X_train, y_train)\n",
        "\n",
        "# Predict on testing set\n",
        "predictionsXGB = XGB.predict(X_test)\n",
        "\n",
        "\n",
        "# Evaluating model\n",
        "CM_XGB = confusion_matrix(y_test,predictionsXGB)\n",
        "CR_XGB = classification_report(y_test,predictionsXGB)\n",
        "fprXGB, recallXGB, thresholds_XGB = roc_curve(y_test, predictionsXGB)\n",
        "AUC_XGB = auc(fprXGB, recallXGB)\n",
        "resultsXGB = {\"Confusion Matrix\":CM_XGB,\"Classification Report\":CR_XGB,\"Area Under Curve\":AUC_XGB}\n",
        "# showing results from Extreme Gradient Boosting\n",
        "for measure in resultsXGB:\n",
        "    print(measure,\": \\n\",resultsXGB[measure],\"\\n\")"
      ]
    },
    {
      "cell_type": "markdown",
      "id": "12b41267",
      "metadata": {
        "papermill": {
          "duration": 0.10734,
          "end_time": "2021-10-17T14:07:57.554062",
          "exception": false,
          "start_time": "2021-10-17T14:07:57.446722",
          "status": "completed"
        },
        "tags": [],
        "id": "12b41267"
      },
      "source": [
        "## Comparing the models: Balanced data"
      ]
    },
    {
      "cell_type": "code",
      "execution_count": null,
      "id": "2638df81",
      "metadata": {
        "execution": {
          "iopub.execute_input": "2021-10-17T14:07:57.778981Z",
          "iopub.status.busy": "2021-10-17T14:07:57.777990Z",
          "iopub.status.idle": "2021-10-17T14:07:57.784690Z",
          "shell.execute_reply": "2021-10-17T14:07:57.784154Z",
          "shell.execute_reply.started": "2021-10-17T13:44:31.824199Z"
        },
        "papermill": {
          "duration": 0.123084,
          "end_time": "2021-10-17T14:07:57.784858",
          "exception": false,
          "start_time": "2021-10-17T14:07:57.661774",
          "status": "completed"
        },
        "tags": [],
        "id": "2638df81",
        "outputId": "0356e475-9fa6-45e9-a4cd-36e2360e743e"
      },
      "outputs": [
        {
          "name": "stdout",
          "output_type": "stream",
          "text": [
            "Note: scores in the same vertical level as 0 are scores for valid transactions. \n",
            "       Scores in the same vertical level as 1 are scores for fraudulent transactions. \n",
            "\n",
            "Classification Report of Random Forest: \n",
            "               precision    recall  f1-score   support\n",
            "\n",
            "           0       1.00      1.00      1.00      2479\n",
            "           1       1.00      1.00      1.00      2449\n",
            "\n",
            "    accuracy                           1.00      4928\n",
            "   macro avg       1.00      1.00      1.00      4928\n",
            "weighted avg       1.00      1.00      1.00      4928\n",
            "\n",
            "Classification Report of Decision trees: \n",
            "               precision    recall  f1-score   support\n",
            "\n",
            "           0       1.00      1.00      1.00    552436\n",
            "           1       0.99      0.99      0.99      1646\n",
            "\n",
            "    accuracy                           1.00    554082\n",
            "   macro avg       1.00      1.00      1.00    554082\n",
            "weighted avg       1.00      1.00      1.00    554082\n",
            "\n",
            "Classification Report of XGB trees: \n",
            "               precision    recall  f1-score   support\n",
            "\n",
            "           0       1.00      1.00      1.00    552436\n",
            "           1       1.00      0.99      1.00      1646\n",
            "\n",
            "    accuracy                           1.00    554082\n",
            "   macro avg       1.00      1.00      1.00    554082\n",
            "weighted avg       1.00      1.00      1.00    554082\n",
            "\n"
          ]
        }
      ],
      "source": [
        "print(\"Note: scores in the same vertical level as 0 are scores for valid transactions. \\n \\\n",
        "      Scores in the same vertical level as 1 are scores for fraudulent transactions. \\n\")\n",
        "print(\"Classification Report of Random Forest: \\n\", CR_RF)\n",
        "print(\"Classification Report of Decision trees: \\n\", CR_DT)\n",
        "print(\"Classification Report of XGB trees: \\n\", CR_XGB)\n"
      ]
    },
    {
      "cell_type": "code",
      "execution_count": null,
      "id": "a8082417",
      "metadata": {
        "execution": {
          "iopub.execute_input": "2021-10-17T14:07:58.010198Z",
          "iopub.status.busy": "2021-10-17T14:07:58.009358Z",
          "iopub.status.idle": "2021-10-17T14:07:58.012269Z",
          "shell.execute_reply": "2021-10-17T14:07:58.012773Z",
          "shell.execute_reply.started": "2021-10-17T13:44:31.832967Z"
        },
        "papermill": {
          "duration": 0.118511,
          "end_time": "2021-10-17T14:07:58.012978",
          "exception": false,
          "start_time": "2021-10-17T14:07:57.894467",
          "status": "completed"
        },
        "tags": [],
        "id": "a8082417",
        "outputId": "fca11c69-ae47-4d43-895a-0534470a553e"
      },
      "outputs": [
        {
          "name": "stdout",
          "output_type": "stream",
          "text": [
            "Number of valid transactions labelled as fraudulent by Random Forest: \n",
            " 2\n",
            "Number of valid transactions labelled as fraudulent by XGB trees: \n",
            " 0\n",
            "Number of valid transactions labelled as fraudulent by Decision Tree: \n",
            " 12\n"
          ]
        }
      ],
      "source": [
        "print(\"Number of valid transactions labelled as fraudulent by Random Forest: \\n\", CM_RF[0,1])\n",
        "print(\"Number of valid transactions labelled as fraudulent by XGB trees: \\n\", CM_XGB[0,1])\n",
        "print(\"Number of valid transactions labelled as fraudulent by Decision Tree: \\n\", CM_DT[0,1])"
      ]
    },
    {
      "cell_type": "code",
      "execution_count": null,
      "id": "36ae04c5",
      "metadata": {
        "execution": {
          "iopub.execute_input": "2021-10-17T14:07:58.238202Z",
          "iopub.status.busy": "2021-10-17T14:07:58.237446Z",
          "iopub.status.idle": "2021-10-17T14:07:58.244659Z",
          "shell.execute_reply": "2021-10-17T14:07:58.243752Z",
          "shell.execute_reply.started": "2021-10-17T13:44:31.847882Z"
        },
        "papermill": {
          "duration": 0.122158,
          "end_time": "2021-10-17T14:07:58.244846",
          "exception": false,
          "start_time": "2021-10-17T14:07:58.122688",
          "status": "completed"
        },
        "tags": [],
        "id": "36ae04c5",
        "outputId": "53c4fecd-f29f-4025-a01d-ce5d64431597"
      },
      "outputs": [
        {
          "name": "stdout",
          "output_type": "stream",
          "text": [
            "Number of fraud transactions labelled as valid by Random Forest: \n",
            " 9\n",
            "Number of fraud transactions labelled as valid by XGB trees: \n",
            " 11\n",
            "Number of fraud transactions labelled as valid by Decision Tree: \n",
            " 9\n"
          ]
        }
      ],
      "source": [
        "print(\"Number of fraud transactions labelled as valid by Random Forest: \\n\", CM_RF[1,0])\n",
        "print(\"Number of fraud transactions labelled as valid by XGB trees: \\n\", CM_XGB[1,0])\n",
        "print(\"Number of fraud transactions labelled as valid by Decision Tree: \\n\", CM_DT[1,0])"
      ]
    },
    {
      "cell_type": "code",
      "execution_count": null,
      "id": "25706004",
      "metadata": {
        "execution": {
          "iopub.execute_input": "2021-10-17T14:07:58.691554Z",
          "iopub.status.busy": "2021-10-17T14:07:58.690609Z",
          "iopub.status.idle": "2021-10-17T14:07:58.695431Z",
          "shell.execute_reply": "2021-10-17T14:07:58.695934Z",
          "shell.execute_reply.started": "2021-10-17T13:44:31.861113Z"
        },
        "papermill": {
          "duration": 0.123488,
          "end_time": "2021-10-17T14:07:58.696185",
          "exception": false,
          "start_time": "2021-10-17T14:07:58.572697",
          "status": "completed"
        },
        "tags": [],
        "id": "25706004",
        "outputId": "c22c773f-72eb-4fd8-d8d8-f58cc4402338"
      },
      "outputs": [
        {
          "name": "stdout",
          "output_type": "stream",
          "text": [
            "\n",
            "AUC of Random Forest: \n",
            " 0.9977591268492824\n",
            "\n",
            "AUC of Decision Tree: \n",
            " 0.9972552386488679\n",
            "\n",
            "AUC of XGB trees: \n",
            " 0.9966585662211422\n"
          ]
        }
      ],
      "source": [
        "print(\"\\nAUC of Random Forest: \\n\", AUC_RF)\n",
        "print(\"\\nAUC of Decision Tree: \\n\", AUC_DT)\n",
        "print(\"\\nAUC of XGB trees: \\n\", AUC_XGB)"
      ]
    },
    {
      "cell_type": "markdown",
      "id": "e8440ecd",
      "metadata": {
        "papermill": {
          "duration": 0.107653,
          "end_time": "2021-10-17T14:07:59.130450",
          "exception": false,
          "start_time": "2021-10-17T14:07:59.022797",
          "status": "completed"
        },
        "tags": [],
        "id": "e8440ecd"
      },
      "source": [
        "## Important Features"
      ]
    },
    {
      "cell_type": "code",
      "execution_count": null,
      "id": "1d2291c8",
      "metadata": {
        "execution": {
          "iopub.execute_input": "2021-10-17T14:07:59.354199Z",
          "iopub.status.busy": "2021-10-17T14:07:59.349458Z",
          "iopub.status.idle": "2021-10-17T14:07:59.758159Z",
          "shell.execute_reply": "2021-10-17T14:07:59.758651Z",
          "shell.execute_reply.started": "2021-10-17T13:44:31.874316Z"
        },
        "papermill": {
          "duration": 0.520102,
          "end_time": "2021-10-17T14:07:59.758833",
          "exception": false,
          "start_time": "2021-10-17T14:07:59.238731",
          "status": "completed"
        },
        "tags": [],
        "id": "1d2291c8",
        "outputId": "c6386d53-1d59-4068-8b63-346117a95559"
      },
      "outputs": [
        {
          "data": {
            "image/png": "[encoded data removed]",
            "text/plain": [
              "<Figure size 1296x504 with 1 Axes>"
            ]
          },
          "metadata": {},
          "output_type": "display_data"
        }
      ],
      "source": [
        "ncols = len(X.columns)\n",
        "x = np.arange(ncols)\n",
        "\n",
        "# getting importances of features\n",
        "importances = RF.feature_importances_\n",
        "\n",
        "# getting the indices of the most important feature to least important\n",
        "sort_ind = np.argsort(importances)[::-1]\n",
        "plt.figure(figsize=(18,7))\n",
        "plt.bar(x, importances[sort_ind])\n",
        "plt.xticks(x,tuple(X.columns.values[sort_ind]))\n",
        "plt.title(\"Important Features: Greatest to Least\")\n",
        "plt.show()"
      ]
    }
  ],
  "metadata": {
    "kernelspec": {
      "display_name": "Python 3",
      "language": "python",
      "name": "python3"
    },
    "language_info": {
      "codemirror_mode": {
        "name": "ipython",
        "version": 3
      },
      "file_extension": ".py",
      "mimetype": "text/x-python",
      "name": "python",
      "nbconvert_exporter": "python",
      "pygments_lexer": "ipython3",
      "version": "3.7.10"
    },
    "papermill": {
      "default_parameters": {},
      "duration": 614.249858,
      "end_time": "2021-10-17T14:08:02.758454",
      "environment_variables": {},
      "exception": null,
      "input_path": "__notebook__.ipynb",
      "output_path": "__notebook__.ipynb",
      "parameters": {},
      "start_time": "2021-10-17T13:57:48.508596",
      "version": "2.3.3"
    },
    "colab": {
      "provenance": []
    }
  },
  "nbformat": 4,
  "nbformat_minor": 5
}